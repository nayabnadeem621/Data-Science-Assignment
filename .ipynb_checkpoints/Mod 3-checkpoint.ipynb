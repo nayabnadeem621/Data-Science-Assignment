{
 "cells": [
  {
   "cell_type": "code",
   "execution_count": 1,
   "id": "242aadde",
   "metadata": {},
   "outputs": [
    {
     "name": "stdout",
     "output_type": "stream",
     "text": [
      "#\n",
      "#\n",
      "#\n"
     ]
    }
   ],
   "source": [
    "var=0\n",
    "while var<6:\n",
    "    var+=1\n",
    "    if var %2==0:\n",
    "        continue\n",
    "    print (\"#\")\n",
    "        "
   ]
  },
  {
   "cell_type": "code",
   "execution_count": 9,
   "id": "037e542e",
   "metadata": {},
   "outputs": [],
   "source": [
    "x=1\n",
    "x=x==x"
   ]
  },
  {
   "cell_type": "code",
   "execution_count": 10,
   "id": "adf53c76",
   "metadata": {},
   "outputs": [
    {
     "data": {
      "text/plain": [
       "True"
      ]
     },
     "execution_count": 10,
     "metadata": {},
     "output_type": "execute_result"
    }
   ],
   "source": [
    "x"
   ]
  },
  {
   "cell_type": "code",
   "execution_count": 12,
   "id": "424707d8",
   "metadata": {},
   "outputs": [],
   "source": [
    "vals=[0,1,2]\n",
    "vals.insert(0,1)\n",
    "del vals[1]\n"
   ]
  },
  {
   "cell_type": "code",
   "execution_count": 13,
   "id": "de5b50a8",
   "metadata": {},
   "outputs": [
    {
     "data": {
      "text/plain": [
       "[1, 1, 2]"
      ]
     },
     "execution_count": 13,
     "metadata": {},
     "output_type": "execute_result"
    }
   ],
   "source": [
    "vals"
   ]
  },
  {
   "cell_type": "code",
   "execution_count": 15,
   "id": "e3536584",
   "metadata": {},
   "outputs": [],
   "source": [
    "my_list=[i for i in range(-1,2)]"
   ]
  },
  {
   "cell_type": "code",
   "execution_count": 17,
   "id": "d6595ccf",
   "metadata": {},
   "outputs": [
    {
     "data": {
      "text/plain": [
       "[-1, 0, 1]"
      ]
     },
     "execution_count": 17,
     "metadata": {},
     "output_type": "execute_result"
    }
   ],
   "source": [
    "my_list"
   ]
  },
  {
   "cell_type": "code",
   "execution_count": 18,
   "id": "73ee35b1",
   "metadata": {},
   "outputs": [],
   "source": [
    "nums=[1,2,3]\n",
    "vals=nums[-1:-2]\n"
   ]
  },
  {
   "cell_type": "markdown",
   "id": "2efc5c0a",
   "metadata": {},
   "source": []
  },
  {
   "cell_type": "code",
   "execution_count": null,
   "id": "fa74ff82",
   "metadata": {},
   "outputs": [],
   "source": []
  },
  {
   "cell_type": "code",
   "execution_count": null,
   "id": "2762ab02",
   "metadata": {},
   "outputs": [],
   "source": []
  },
  {
   "cell_type": "code",
   "execution_count": null,
   "id": "94a43359",
   "metadata": {},
   "outputs": [],
   "source": []
  },
  {
   "cell_type": "code",
   "execution_count": 11,
   "id": "5447f65c",
   "metadata": {},
   "outputs": [
    {
     "name": "stdout",
     "output_type": "stream",
     "text": [
      "-1\n"
     ]
    }
   ],
   "source": [
    "my_list=[-3,1-2]\n",
    "print(my_list[my_list[-1]])"
   ]
  },
  {
   "cell_type": "code",
   "execution_count": 8,
   "id": "1f0c5052",
   "metadata": {},
   "outputs": [
    {
     "name": "stdout",
     "output_type": "stream",
     "text": [
      "[3]\n"
     ]
    }
   ],
   "source": [
    "my_list=[1,2,3,4]\n",
    "print(my_list[2:3])"
   ]
  },
  {
   "cell_type": "code",
   "execution_count": 11,
   "id": "b130aca9",
   "metadata": {},
   "outputs": [
    {
     "name": "stdout",
     "output_type": "stream",
     "text": [
      "*\n"
     ]
    }
   ],
   "source": [
    "i=0\n",
    "while i<=5:\n",
    "    i+=1\n",
    "    if i%2==0:\n",
    "        break\n",
    "    print(\"*\")\n",
    "    "
   ]
  },
  {
   "cell_type": "code",
   "execution_count": 1,
   "id": "f027168a",
   "metadata": {},
   "outputs": [
    {
     "name": "stdout",
     "output_type": "stream",
     "text": [
      "*\n",
      "*\n"
     ]
    }
   ],
   "source": [
    "i=0\n",
    "while i<=3:\n",
    "    i+=2\n",
    "    print(\"*\")\n"
   ]
  },
  {
   "cell_type": "code",
   "execution_count": 2,
   "id": "26c02fbc",
   "metadata": {},
   "outputs": [],
   "source": [
    "nums=[1,2,3]\n",
    "vals=nums\n",
    "del vals[1:2]\n"
   ]
  },
  {
   "cell_type": "code",
   "execution_count": 4,
   "id": "d45b6c36",
   "metadata": {},
   "outputs": [],
   "source": [
    "z=10\n",
    "y=0\n",
    "x=y<z and z>y or y>z and z<y"
   ]
  },
  {
   "cell_type": "code",
   "execution_count": 5,
   "id": "f824cfe2",
   "metadata": {},
   "outputs": [
    {
     "data": {
      "text/plain": [
       "True"
      ]
     },
     "execution_count": 5,
     "metadata": {},
     "output_type": "execute_result"
    }
   ],
   "source": [
    "x\n"
   ]
  },
  {
   "cell_type": "code",
   "execution_count": 6,
   "id": "596a5c37",
   "metadata": {},
   "outputs": [
    {
     "name": "stdout",
     "output_type": "stream",
     "text": [
      "#\n",
      "#\n",
      "#\n",
      "#\n"
     ]
    }
   ],
   "source": [
    "var =1\n",
    "while var<10:\n",
    "    print(\"#\")\n",
    "    var=var<<1\n"
   ]
  },
  {
   "cell_type": "code",
   "execution_count": 7,
   "id": "93c8447d",
   "metadata": {},
   "outputs": [],
   "source": [
    "vals=[0,1,2]\n",
    "vals[0],vals[2]=vals[2],vals[0]"
   ]
  },
  {
   "cell_type": "code",
   "execution_count": 8,
   "id": "c55f15c9",
   "metadata": {},
   "outputs": [
    {
     "data": {
      "text/plain": [
       "[2, 1, 0]"
      ]
     },
     "execution_count": 8,
     "metadata": {},
     "output_type": "execute_result"
    }
   ],
   "source": [
    "vals"
   ]
  },
  {
   "cell_type": "code",
   "execution_count": null,
   "id": "68af3de4",
   "metadata": {},
   "outputs": [],
   "source": []
  }
 ],
 "metadata": {
  "kernelspec": {
   "display_name": "Python 3 (ipykernel)",
   "language": "python",
   "name": "python3"
  },
  "language_info": {
   "codemirror_mode": {
    "name": "ipython",
    "version": 3
   },
   "file_extension": ".py",
   "mimetype": "text/x-python",
   "name": "python",
   "nbconvert_exporter": "python",
   "pygments_lexer": "ipython3",
   "version": "3.9.7"
  }
 },
 "nbformat": 4,
 "nbformat_minor": 5
}
