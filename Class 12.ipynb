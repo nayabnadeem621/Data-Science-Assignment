{
 "cells": [
  {
   "cell_type": "code",
   "execution_count": 4,
   "id": "ad329312",
   "metadata": {},
   "outputs": [],
   "source": [
    "multidic={\"Python\":    {\"hamza\":9, \"ali\":7, \"maaz\":8},\n",
    "           \"java\" :    {\"hamza\":7, \"ali\":6, \"maaz\":9} ,      \n",
    "            \"GD\" :     {\"hamza\":4, \"ali\":8, \"maaz\":5}\n",
    "         }\n"
   ]
  },
  {
   "cell_type": "code",
   "execution_count": 5,
   "id": "d2356459",
   "metadata": {},
   "outputs": [
    {
     "data": {
      "text/plain": [
       "{'hamza': 9, 'ali': 7, 'maaz': 8}"
      ]
     },
     "execution_count": 5,
     "metadata": {},
     "output_type": "execute_result"
    }
   ],
   "source": [
    "multidic[\"Python\"]"
   ]
  },
  {
   "cell_type": "code",
   "execution_count": 8,
   "id": "abc3d4ba",
   "metadata": {},
   "outputs": [
    {
     "data": {
      "text/plain": [
       "{'hamza': 7, 'ali': 6, 'maaz': 9}"
      ]
     },
     "execution_count": 8,
     "metadata": {},
     "output_type": "execute_result"
    }
   ],
   "source": [
    "multidic[\"java\"]"
   ]
  },
  {
   "cell_type": "code",
   "execution_count": 6,
   "id": "4ae091ff",
   "metadata": {},
   "outputs": [
    {
     "data": {
      "text/plain": [
       "{'hamza': 4, 'ali': 8, 'maaz': 5}"
      ]
     },
     "execution_count": 6,
     "metadata": {},
     "output_type": "execute_result"
    }
   ],
   "source": [
    "multidic[\"GD\"]"
   ]
  },
  {
   "cell_type": "code",
   "execution_count": 9,
   "id": "141902a1",
   "metadata": {},
   "outputs": [
    {
     "data": {
      "text/plain": [
       "7"
      ]
     },
     "execution_count": 9,
     "metadata": {},
     "output_type": "execute_result"
    }
   ],
   "source": [
    "multidic[\"Python\"][\"ali\"]"
   ]
  },
  {
   "cell_type": "code",
   "execution_count": 10,
   "id": "fe3b8709",
   "metadata": {},
   "outputs": [],
   "source": [
    "multidic[\"Python\"][\"hamza\"]=8"
   ]
  },
  {
   "cell_type": "code",
   "execution_count": 11,
   "id": "9df3e7cb",
   "metadata": {},
   "outputs": [
    {
     "data": {
      "text/plain": [
       "{'hamza': 8, 'ali': 7, 'maaz': 8}"
      ]
     },
     "execution_count": 11,
     "metadata": {},
     "output_type": "execute_result"
    }
   ],
   "source": [
    "multidic[\"Python\"]"
   ]
  },
  {
   "cell_type": "markdown",
   "id": "1fa7146e",
   "metadata": {},
   "source": [
    "# dictionary in list"
   ]
  },
  {
   "cell_type": "code",
   "execution_count": 12,
   "id": "0900b7f1",
   "metadata": {},
   "outputs": [],
   "source": [
    "dic_in_list=[]"
   ]
  },
  {
   "cell_type": "code",
   "execution_count": 13,
   "id": "98e8d30e",
   "metadata": {},
   "outputs": [],
   "source": [
    "dic_in_list.append({\"country\":\"pak\"})"
   ]
  },
  {
   "cell_type": "code",
   "execution_count": 14,
   "id": "0d9e95bf",
   "metadata": {},
   "outputs": [
    {
     "data": {
      "text/plain": [
       "[{'country': 'pak'}]"
      ]
     },
     "execution_count": 14,
     "metadata": {},
     "output_type": "execute_result"
    }
   ],
   "source": [
    "dic_in_list"
   ]
  },
  {
   "cell_type": "code",
   "execution_count": 15,
   "id": "d85ea934",
   "metadata": {},
   "outputs": [],
   "source": [
    "dic_in_list.append({\"sub\":\"physics\"})"
   ]
  },
  {
   "cell_type": "code",
   "execution_count": 16,
   "id": "c8c4a318",
   "metadata": {},
   "outputs": [
    {
     "data": {
      "text/plain": [
       "[{'country': 'pak'}, {'sub': 'physics'}]"
      ]
     },
     "execution_count": 16,
     "metadata": {},
     "output_type": "execute_result"
    }
   ],
   "source": [
    "dic_in_list"
   ]
  },
  {
   "cell_type": "code",
   "execution_count": 22,
   "id": "563b3d23",
   "metadata": {},
   "outputs": [
    {
     "data": {
      "text/plain": [
       "'physics'"
      ]
     },
     "execution_count": 22,
     "metadata": {},
     "output_type": "execute_result"
    }
   ],
   "source": [
    "dic_in_list[1][\"sub\"]"
   ]
  },
  {
   "cell_type": "code",
   "execution_count": 23,
   "id": "f217d22f",
   "metadata": {},
   "outputs": [],
   "source": [
    "misclist=[2,3.5,\"nayab\",True,{200},(23,45,78),{'country': 'Pakistan'},[1,3,4,5,6,7]]"
   ]
  },
  {
   "cell_type": "code",
   "execution_count": 24,
   "id": "c16a6008",
   "metadata": {},
   "outputs": [
    {
     "data": {
      "text/plain": [
       "True"
      ]
     },
     "execution_count": 24,
     "metadata": {},
     "output_type": "execute_result"
    }
   ],
   "source": [
    "misclist[3]"
   ]
  },
  {
   "cell_type": "code",
   "execution_count": 25,
   "id": "47a9aac8",
   "metadata": {},
   "outputs": [
    {
     "data": {
      "text/plain": [
       "78"
      ]
     },
     "execution_count": 25,
     "metadata": {},
     "output_type": "execute_result"
    }
   ],
   "source": [
    "misclist[5][2]"
   ]
  },
  {
   "cell_type": "code",
   "execution_count": 26,
   "id": "79883172",
   "metadata": {},
   "outputs": [
    {
     "data": {
      "text/plain": [
       "'Pakistan'"
      ]
     },
     "execution_count": 26,
     "metadata": {},
     "output_type": "execute_result"
    }
   ],
   "source": [
    "misclist[6][\"country\"]"
   ]
  },
  {
   "cell_type": "code",
   "execution_count": 30,
   "id": "b108baf5",
   "metadata": {},
   "outputs": [
    {
     "data": {
      "text/plain": [
       "6"
      ]
     },
     "execution_count": 30,
     "metadata": {},
     "output_type": "execute_result"
    }
   ],
   "source": [
    "misclist[7][4]"
   ]
  },
  {
   "cell_type": "code",
   "execution_count": 31,
   "id": "904cd656",
   "metadata": {},
   "outputs": [
    {
     "data": {
      "text/plain": [
       "set"
      ]
     },
     "execution_count": 31,
     "metadata": {},
     "output_type": "execute_result"
    }
   ],
   "source": [
    "type(misclist[4])"
   ]
  },
  {
   "cell_type": "code",
   "execution_count": 32,
   "id": "3c2be3ad",
   "metadata": {},
   "outputs": [
    {
     "data": {
      "text/plain": [
       "{'Python': {'hamza': 8, 'ali': 7, 'maaz': 8},\n",
       " 'java': {'hamza': 7, 'ali': 6, 'maaz': 9},\n",
       " 'GD': {'hamza': 4, 'ali': 8, 'maaz': 5}}"
      ]
     },
     "execution_count": 32,
     "metadata": {},
     "output_type": "execute_result"
    }
   ],
   "source": [
    "multidic"
   ]
  },
  {
   "cell_type": "code",
   "execution_count": 36,
   "id": "4e651458",
   "metadata": {},
   "outputs": [],
   "source": [
    "mydic=multidic.copy()"
   ]
  },
  {
   "cell_type": "code",
   "execution_count": 38,
   "id": "5be1f19f",
   "metadata": {},
   "outputs": [
    {
     "data": {
      "text/plain": [
       "{1000: [1, 2, 3, 4],\n",
       " 2000: [1, 2, 3, 4],\n",
       " 3000: [1, 2, 3, 4],\n",
       " 4000: [1, 2, 3, 4]}"
      ]
     },
     "execution_count": 38,
     "metadata": {},
     "output_type": "execute_result"
    }
   ],
   "source": [
    "mydic.fromkeys([1000,2000,3000,4000],[1,2,3,4])"
   ]
  },
  {
   "cell_type": "code",
   "execution_count": 39,
   "id": "e12286d9",
   "metadata": {},
   "outputs": [
    {
     "data": {
      "text/plain": [
       "{'hamza': 8, 'ali': 7, 'maaz': 8}"
      ]
     },
     "execution_count": 39,
     "metadata": {},
     "output_type": "execute_result"
    }
   ],
   "source": [
    "mydic.get(\"Python\")"
   ]
  },
  {
   "cell_type": "code",
   "execution_count": 40,
   "id": "ac3fe058",
   "metadata": {},
   "outputs": [
    {
     "data": {
      "text/plain": [
       "{'hamza': 8, 'ali': 7, 'maaz': 8}"
      ]
     },
     "execution_count": 40,
     "metadata": {},
     "output_type": "execute_result"
    }
   ],
   "source": [
    "mydic[\"Python\"]"
   ]
  },
  {
   "cell_type": "code",
   "execution_count": 41,
   "id": "76b1e353",
   "metadata": {},
   "outputs": [
    {
     "data": {
      "text/plain": [
       "{'hamza': 8, 'ali': 7, 'maaz': 8}"
      ]
     },
     "execution_count": 41,
     "metadata": {},
     "output_type": "execute_result"
    }
   ],
   "source": [
    "mydic.pop(\"Python\")"
   ]
  },
  {
   "cell_type": "code",
   "execution_count": 42,
   "id": "4f1365f4",
   "metadata": {},
   "outputs": [
    {
     "data": {
      "text/plain": [
       "{'java': {'hamza': 7, 'ali': 6, 'maaz': 9},\n",
       " 'GD': {'hamza': 4, 'ali': 8, 'maaz': 5}}"
      ]
     },
     "execution_count": 42,
     "metadata": {},
     "output_type": "execute_result"
    }
   ],
   "source": [
    "mydic"
   ]
  },
  {
   "cell_type": "code",
   "execution_count": 43,
   "id": "a07ff535",
   "metadata": {},
   "outputs": [],
   "source": [
    "java1=mydic.pop(\"java\")"
   ]
  },
  {
   "cell_type": "code",
   "execution_count": 44,
   "id": "12ab6a3f",
   "metadata": {},
   "outputs": [
    {
     "data": {
      "text/plain": [
       "{'hamza': 7, 'ali': 6, 'maaz': 9}"
      ]
     },
     "execution_count": 44,
     "metadata": {},
     "output_type": "execute_result"
    }
   ],
   "source": [
    "java1"
   ]
  },
  {
   "cell_type": "code",
   "execution_count": 45,
   "id": "715c49b3",
   "metadata": {},
   "outputs": [
    {
     "data": {
      "text/plain": [
       "{'GD': {'hamza': 4, 'ali': 8, 'maaz': 5}}"
      ]
     },
     "execution_count": 45,
     "metadata": {},
     "output_type": "execute_result"
    }
   ],
   "source": [
    "mydic"
   ]
  },
  {
   "cell_type": "code",
   "execution_count": 48,
   "id": "cd5c9140",
   "metadata": {},
   "outputs": [],
   "source": [
    "x=mydic.popitem()"
   ]
  },
  {
   "cell_type": "code",
   "execution_count": 49,
   "id": "cb24759b",
   "metadata": {},
   "outputs": [
    {
     "data": {
      "text/plain": [
       "('GD', {'hamza': 4, 'ali': 8, 'maaz': 5})"
      ]
     },
     "execution_count": 49,
     "metadata": {},
     "output_type": "execute_result"
    }
   ],
   "source": [
    "x"
   ]
  },
  {
   "cell_type": "markdown",
   "id": "0602eb16",
   "metadata": {},
   "source": [
    "# Functions"
   ]
  },
  {
   "cell_type": "code",
   "execution_count": 6,
   "id": "3e5844f4",
   "metadata": {},
   "outputs": [],
   "source": [
    "def add_function():\n",
    "    a = float(input(\"Enter your first number \"))\n",
    "    b = float(input(\"Enter your second number \"))\n",
    "    print(a+b)\n"
   ]
  },
  {
   "cell_type": "code",
   "execution_count": 8,
   "id": "b860bf82",
   "metadata": {},
   "outputs": [
    {
     "name": "stdout",
     "output_type": "stream",
     "text": [
      "Enter your first number 4\n",
      "Enter your second number 7\n",
      "11.0\n"
     ]
    }
   ],
   "source": [
    "add_function()"
   ]
  },
  {
   "cell_type": "code",
   "execution_count": 5,
   "id": "544e617c",
   "metadata": {},
   "outputs": [],
   "source": [
    "def school_detail():\n",
    "    name = input(\"Name=> \")\n",
    "    fatherName =input(\"Father Name=> \")\n",
    "    RollNumber =input(\"Roll Number=> \")\n",
    "    Course =input(\"Course=> \")\n",
    "    Timing =input(\"Time=> \")\n",
    "    Institute =input(\"Institute=>\") \n",
    "    print(f\"\"\"        Name of Student :   {name}\n",
    "             Father Name :        {fatherName}\n",
    "             Roll No. :           {RollNumber}\n",
    "             Course:              {Course}\n",
    "             Timing :             {Timing}\n",
    "             Institute:           {Institute}\"\"\")"
   ]
  },
  {
   "cell_type": "code",
   "execution_count": 6,
   "id": "6d652f73",
   "metadata": {},
   "outputs": [
    {
     "name": "stdout",
     "output_type": "stream",
     "text": [
      "Name=> nayab\n",
      "Father Name=> nadeem\n",
      "Roll Number=> 12334\n",
      "Course=> oythin\n",
      "Time=> 3 5\n",
      "Institute=>sit\n",
      "        Name of Student :   nayab\n",
      "             Father Name :        nadeem\n",
      "             Roll No. :           12334\n",
      "             Course:              oythin\n",
      "             Timing :             3 5\n",
      "             Institute:           sit\n"
     ]
    }
   ],
   "source": [
    "school_detail()"
   ]
  },
  {
   "cell_type": "code",
   "execution_count": 15,
   "id": "05ffc74f",
   "metadata": {},
   "outputs": [
    {
     "name": "stdout",
     "output_type": "stream",
     "text": [
      "Name of Student : Nayab Nadeem\n",
      "Father Name : Muhammad Nadeem\n",
      "Roll No. : SMIT12345\n",
      "Course: Python\n",
      "Timing : 11 to 2\n",
      "Institute: SMIT\n"
     ]
    }
   ],
   "source": [
    "print(\"\"\"Name of Student : Nayab Nadeem\n",
    "Father Name : Muhammad Nadeem\n",
    "Roll No. : SMIT12345\n",
    "Course: Python\n",
    "Timing : 11 to 2\n",
    "Institute: SMIT\"\"\")"
   ]
  },
  {
   "cell_type": "code",
   "execution_count": null,
   "id": "d04b5fe5",
   "metadata": {},
   "outputs": [],
   "source": [
    "school_detail()"
   ]
  },
  {
   "cell_type": "code",
   "execution_count": null,
   "id": "814fc769",
   "metadata": {},
   "outputs": [],
   "source": []
  }
 ],
 "metadata": {
  "kernelspec": {
   "display_name": "Python 3 (ipykernel)",
   "language": "python",
   "name": "python3"
  },
  "language_info": {
   "codemirror_mode": {
    "name": "ipython",
    "version": 3
   },
   "file_extension": ".py",
   "mimetype": "text/x-python",
   "name": "python",
   "nbconvert_exporter": "python",
   "pygments_lexer": "ipython3",
   "version": "3.9.7"
  }
 },
 "nbformat": 4,
 "nbformat_minor": 5
}
