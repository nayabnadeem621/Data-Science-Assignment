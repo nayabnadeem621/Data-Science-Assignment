{
 "cells": [
  {
   "cell_type": "code",
   "execution_count": 1,
   "id": "242aadde",
   "metadata": {},
   "outputs": [
    {
     "name": "stdout",
     "output_type": "stream",
     "text": [
      "#\n",
      "#\n",
      "#\n"
     ]
    }
   ],
   "source": [
    "var=0\n",
    "while var<6:\n",
    "    var+=1\n",
    "    if var %2==0:\n",
    "        continue\n",
    "    print (\"#\")\n",
    "        "
   ]
  },
  {
   "cell_type": "code",
   "execution_count": 9,
   "id": "037e542e",
   "metadata": {},
   "outputs": [],
   "source": [
    "x=1\n",
    "x=x==x"
   ]
  },
  {
   "cell_type": "code",
   "execution_count": 10,
   "id": "5144f1e0",
   "metadata": {},
   "outputs": [
    {
     "data": {
      "text/plain": [
       "True"
      ]
     },
     "execution_count": 10,
     "metadata": {},
     "output_type": "execute_result"
    }
   ],
   "source": [
    "x"
   ]
  },
  {
   "cell_type": "code",
   "execution_count": 12,
   "id": "45f480c2",
   "metadata": {},
   "outputs": [],
   "source": [
    "vals=[0,1,2]\n",
    "vals.insert(0,1)\n",
    "del vals[1]\n"
   ]
  },
  {
   "cell_type": "code",
   "execution_count": 13,
   "id": "6d682089",
   "metadata": {},
   "outputs": [
    {
     "data": {
      "text/plain": [
       "[1, 1, 2]"
      ]
     },
     "execution_count": 13,
     "metadata": {},
     "output_type": "execute_result"
    }
   ],
   "source": [
    "vals"
   ]
  },
  {
   "cell_type": "code",
   "execution_count": 15,
   "id": "254f9d5f",
   "metadata": {},
   "outputs": [],
   "source": [
    "my_list=[i for i in range(-1,2)]"
   ]
  },
  {
   "cell_type": "code",
   "execution_count": 17,
   "id": "b4287c0a",
   "metadata": {},
   "outputs": [
    {
     "data": {
      "text/plain": [
       "[-1, 0, 1]"
      ]
     },
     "execution_count": 17,
     "metadata": {},
     "output_type": "execute_result"
    }
   ],
   "source": [
    "my_list"
   ]
  },
  {
   "cell_type": "code",
   "execution_count": 18,
   "id": "f140b4b1",
   "metadata": {},
   "outputs": [],
   "source": [
    "nums=[1,2,3]\n",
    "vals=nums[-1:-2]\n"
   ]
  },
  {
   "cell_type": "code",
   "execution_count": 19,
   "id": "fef9691b",
   "metadata": {},
   "outputs": [
    {
     "data": {
      "text/plain": [
       "[]"
      ]
     },
     "execution_count": 19,
     "metadata": {},
     "output_type": "execute_result"
    }
   ],
   "source": [
    "vals"
   ]
  },
  {
   "cell_type": "code",
   "execution_count": 20,
   "id": "98bba5d5",
   "metadata": {},
   "outputs": [
    {
     "name": "stdout",
     "output_type": "stream",
     "text": [
      "#\n",
      "#\n"
     ]
    }
   ],
   "source": [
    "for i in range(1):\n",
    "    print(\"#\")\n",
    "else:\n",
    "    print(\"#\")\n",
    "\n"
   ]
  },
  {
   "cell_type": "code",
   "execution_count": 21,
   "id": "34c11779",
   "metadata": {},
   "outputs": [
    {
     "ename": "IndexError",
     "evalue": "list index out of range",
     "output_type": "error",
     "traceback": [
      "\u001b[1;31m---------------------------------------------------------------------------\u001b[0m",
      "\u001b[1;31mIndexError\u001b[0m                                Traceback (most recent call last)",
      "\u001b[1;32m~\\AppData\\Local\\Temp/ipykernel_11556/4083169986.py\u001b[0m in \u001b[0;36m<module>\u001b[1;34m\u001b[0m\n\u001b[0;32m      1\u001b[0m \u001b[0mmy_list\u001b[0m\u001b[1;33m=\u001b[0m\u001b[1;33m[\u001b[0m\u001b[1;33m[\u001b[0m\u001b[1;36m0\u001b[0m\u001b[1;33m,\u001b[0m\u001b[1;36m1\u001b[0m\u001b[1;33m,\u001b[0m\u001b[1;36m2\u001b[0m\u001b[1;33m,\u001b[0m\u001b[1;36m3\u001b[0m\u001b[1;33m]\u001b[0m \u001b[1;32mfor\u001b[0m \u001b[0mi\u001b[0m \u001b[1;32min\u001b[0m \u001b[0mrange\u001b[0m\u001b[1;33m(\u001b[0m\u001b[1;36m2\u001b[0m\u001b[1;33m)\u001b[0m\u001b[1;33m]\u001b[0m\u001b[1;33m\u001b[0m\u001b[1;33m\u001b[0m\u001b[0m\n\u001b[1;32m----> 2\u001b[1;33m \u001b[0mprint\u001b[0m\u001b[1;33m(\u001b[0m\u001b[0mmy_list\u001b[0m\u001b[1;33m[\u001b[0m\u001b[1;36m2\u001b[0m\u001b[1;33m]\u001b[0m\u001b[1;33m[\u001b[0m\u001b[1;36m0\u001b[0m\u001b[1;33m]\u001b[0m\u001b[1;33m)\u001b[0m\u001b[1;33m\u001b[0m\u001b[1;33m\u001b[0m\u001b[0m\n\u001b[0m",
      "\u001b[1;31mIndexError\u001b[0m: list index out of range"
     ]
    }
   ],
   "source": [
    "my_list=[[0,1,2,3] for i in range(2)]\n",
    "print(my_list[2][0])"
   ]
  },
  {
   "cell_type": "code",
   "execution_count": 29,
   "id": "5447f65c",
   "metadata": {},
   "outputs": [
    {
     "name": "stdout",
     "output_type": "stream",
     "text": [
      "1\n"
     ]
    }
   ],
   "source": [
    "my_list=[3,1,-2]\n",
    "print(my_list[my_list[-1]])"
   ]
  },
  {
   "cell_type": "code",
   "execution_count": 8,
   "id": "1f0c5052",
   "metadata": {},
   "outputs": [
    {
     "name": "stdout",
     "output_type": "stream",
     "text": [
      "[3]\n"
     ]
    }
   ],
   "source": [
    "my_list=[1,2,3,4]\n",
    "print(my_list[2:3])"
   ]
  },
  {
   "cell_type": "code",
   "execution_count": 11,
   "id": "b130aca9",
   "metadata": {},
   "outputs": [
    {
     "name": "stdout",
     "output_type": "stream",
     "text": [
      "*\n"
     ]
    }
   ],
   "source": [
    "i=0\n",
    "while i<=5:\n",
    "    i+=1\n",
    "    if i%2==0:\n",
    "        break\n",
    "    print(\"*\")\n",
    "    "
   ]
  },
  {
   "cell_type": "code",
   "execution_count": 1,
   "id": "f027168a",
   "metadata": {},
   "outputs": [
    {
     "name": "stdout",
     "output_type": "stream",
     "text": [
      "*\n",
      "*\n"
     ]
    }
   ],
   "source": [
    "i=0\n",
    "while i<=3:\n",
    "    i+=2\n",
    "    print(\"*\")\n"
   ]
  },
  {
   "cell_type": "code",
   "execution_count": 2,
   "id": "56629b6c",
   "metadata": {},
   "outputs": [],
   "source": [
    "nums=[1,2,3]\n",
    "vals=nums\n",
    "del vals[1:2]\n"
   ]
  },
  {
   "cell_type": "code",
   "execution_count": 4,
   "id": "a8757e48",
   "metadata": {},
   "outputs": [],
   "source": [
    "z=10\n",
    "y=0\n",
    "x=y<z and z>y or y>z and z<y"
   ]
  },
  {
   "cell_type": "code",
   "execution_count": 5,
   "id": "7bb08f8e",
   "metadata": {},
   "outputs": [
    {
     "data": {
      "text/plain": [
       "True"
      ]
     },
     "execution_count": 5,
     "metadata": {},
     "output_type": "execute_result"
    }
   ],
   "source": [
    "x\n"
   ]
  },
  {
   "cell_type": "code",
   "execution_count": 6,
   "id": "35068be6",
   "metadata": {},
   "outputs": [
    {
     "name": "stdout",
     "output_type": "stream",
     "text": [
      "#\n",
      "#\n",
      "#\n",
      "#\n"
     ]
    }
   ],
   "source": [
    "var =1\n",
    "while var<10:\n",
    "    print(\"#\")\n",
    "    var=var<<1\n"
   ]
  },
  {
   "cell_type": "code",
   "execution_count": 7,
   "id": "3ce56274",
   "metadata": {},
   "outputs": [],
   "source": [
    "vals=[0,1,2]\n",
    "vals[0],vals[2]=vals[2],vals[0]"
   ]
  },
  {
   "cell_type": "code",
   "execution_count": 8,
   "id": "8f13fb3a",
   "metadata": {},
   "outputs": [
    {
     "data": {
      "text/plain": [
       "[2, 1, 0]"
      ]
     },
     "execution_count": 8,
     "metadata": {},
     "output_type": "execute_result"
    }
   ],
   "source": [
    "vals"
   ]
  },
  {
   "cell_type": "code",
   "execution_count": 22,
   "id": "c576c7ed",
   "metadata": {},
   "outputs": [
    {
     "name": "stdout",
     "output_type": "stream",
     "text": [
      "[2]\n"
     ]
    }
   ],
   "source": [
    "my_list=[1,2,3,4]\n",
    "print(my_list[-3:-2])"
   ]
  },
  {
   "cell_type": "code",
   "execution_count": 23,
   "id": "9c08e547",
   "metadata": {},
   "outputs": [
    {
     "name": "stdout",
     "output_type": "stream",
     "text": [
      "[3, 2, 1]\n"
     ]
    }
   ],
   "source": [
    "my_list_1=[1,2,3]\n",
    "my_list_2=[]\n",
    "\n",
    "for v in my_list_1:\n",
    "    my_list_2.insert(0,v)\n",
    "print(my_list_2)"
   ]
  },
  {
   "cell_type": "code",
   "execution_count": 24,
   "id": "be937b87",
   "metadata": {},
   "outputs": [
    {
     "name": "stdout",
     "output_type": "stream",
     "text": [
      "2\n"
     ]
    }
   ],
   "source": [
    "a=1\n",
    "b=0\n",
    "c= a&b\n",
    "d = a|b\n",
    "e = a^b\n",
    "print(c+d+e)"
   ]
  },
  {
   "cell_type": "code",
   "execution_count": 25,
   "id": "d148a180",
   "metadata": {},
   "outputs": [
    {
     "name": "stdout",
     "output_type": "stream",
     "text": [
      "[1, 1, 1, 1, 2, 3]\n"
     ]
    }
   ],
   "source": [
    "my_list=[1,2,3]\n",
    "\n",
    "for v in range(len(my_list)):\n",
    "    my_list.insert(1,my_list[v])\n",
    "print(my_list)\n",
    "    "
   ]
  },
  {
   "cell_type": "code",
   "execution_count": 26,
   "id": "361228ee",
   "metadata": {},
   "outputs": [
    {
     "name": "stdout",
     "output_type": "stream",
     "text": [
      "*\n",
      "*\n",
      "*\n"
     ]
    }
   ],
   "source": [
    "var=0\n",
    "while var<6:\n",
    "    var+=1\n",
    "    if var%2==0:\n",
    "        continue\n",
    "    print(\"*\")\n",
    "    "
   ]
  },
  {
   "cell_type": "code",
   "execution_count": 27,
   "id": "e3e21706",
   "metadata": {},
   "outputs": [
    {
     "name": "stdout",
     "output_type": "stream",
     "text": [
      "6\n"
     ]
    }
   ],
   "source": [
    "t=[[3-i for i in range(3) ]for j in range(3)]\n",
    "s=0\n",
    "for i in range(3):\n",
    "    s+=t[i][i]\n",
    "print(s)"
   ]
  },
  {
   "cell_type": "code",
   "execution_count": null,
   "id": "31c4adb6",
   "metadata": {},
   "outputs": [],
   "source": []
  }
 ],
 "metadata": {
  "kernelspec": {
   "display_name": "Python 3 (ipykernel)",
   "language": "python",
   "name": "python3"
  },
  "language_info": {
   "codemirror_mode": {
    "name": "ipython",
    "version": 3
   },
   "file_extension": ".py",
   "mimetype": "text/x-python",
   "name": "python",
   "nbconvert_exporter": "python",
   "pygments_lexer": "ipython3",
   "version": "3.9.7"
  }
 },
 "nbformat": 4,
 "nbformat_minor": 5
}
