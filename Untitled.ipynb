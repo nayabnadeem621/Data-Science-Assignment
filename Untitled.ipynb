{
 "cells": [
  {
   "cell_type": "code",
   "execution_count": 12,
   "id": "a5221f39",
   "metadata": {},
   "outputs": [],
   "source": [
    "name = \"nayab\" "
   ]
  },
  {
   "cell_type": "code",
   "execution_count": 3,
   "id": "3d74102e",
   "metadata": {},
   "outputs": [
    {
     "data": {
      "text/plain": [
       "'Nayab'"
      ]
     },
     "execution_count": 3,
     "metadata": {},
     "output_type": "execute_result"
    }
   ],
   "source": [
    "name.capitalize()"
   ]
  },
  {
   "cell_type": "code",
   "execution_count": 5,
   "id": "3d284893",
   "metadata": {},
   "outputs": [
    {
     "data": {
      "text/plain": [
       "'NAYAB'"
      ]
     },
     "execution_count": 5,
     "metadata": {},
     "output_type": "execute_result"
    }
   ],
   "source": [
    "name.upper()"
   ]
  },
  {
   "cell_type": "code",
   "execution_count": 6,
   "id": "b904e032",
   "metadata": {},
   "outputs": [
    {
     "data": {
      "text/plain": [
       "'nayab'"
      ]
     },
     "execution_count": 6,
     "metadata": {},
     "output_type": "execute_result"
    }
   ],
   "source": [
    "name.lower()"
   ]
  },
  {
   "cell_type": "code",
   "execution_count": 17,
   "id": "b6f97137",
   "metadata": {},
   "outputs": [
    {
     "name": "stdout",
     "output_type": "stream",
     "text": [
      "Nayab\n"
     ]
    }
   ],
   "source": [
    "name = name.capitalize()\n",
    "print(name)"
   ]
  },
  {
   "cell_type": "code",
   "execution_count": 28,
   "id": "72457337",
   "metadata": {},
   "outputs": [
    {
     "data": {
      "text/plain": [
       "3"
      ]
     },
     "execution_count": 28,
     "metadata": {},
     "output_type": "execute_result"
    }
   ],
   "source": [
    "name.find(\"a\", 2)"
   ]
  },
  {
   "cell_type": "code",
   "execution_count": 34,
   "id": "abeabd5f",
   "metadata": {},
   "outputs": [
    {
     "data": {
      "text/plain": [
       "0"
      ]
     },
     "execution_count": 34,
     "metadata": {},
     "output_type": "execute_result"
    }
   ],
   "source": [
    "name.count(\"A\")"
   ]
  },
  {
   "cell_type": "code",
   "execution_count": 36,
   "id": "1d7317a1",
   "metadata": {},
   "outputs": [],
   "source": [
    "sen = \"my student is a very good student\""
   ]
  },
  {
   "cell_type": "code",
   "execution_count": 40,
   "id": "327cc5dd",
   "metadata": {},
   "outputs": [
    {
     "data": {
      "text/plain": [
       "2"
      ]
     },
     "execution_count": 40,
     "metadata": {},
     "output_type": "execute_result"
    }
   ],
   "source": [
    "sen.count(\"student\", )"
   ]
  },
  {
   "cell_type": "code",
   "execution_count": 42,
   "id": "b49da53d",
   "metadata": {},
   "outputs": [
    {
     "data": {
      "text/plain": [
       "True"
      ]
     },
     "execution_count": 42,
     "metadata": {},
     "output_type": "execute_result"
    }
   ],
   "source": [
    "sen.endswith(\"t\")"
   ]
  },
  {
   "cell_type": "code",
   "execution_count": 44,
   "id": "776ac664",
   "metadata": {},
   "outputs": [
    {
     "data": {
      "text/plain": [
       "False"
      ]
     },
     "execution_count": 44,
     "metadata": {},
     "output_type": "execute_result"
    }
   ],
   "source": [
    "sen.startswith(\"n\")"
   ]
  },
  {
   "cell_type": "code",
   "execution_count": 49,
   "id": "a55e8601",
   "metadata": {},
   "outputs": [
    {
     "data": {
      "text/plain": [
       "False"
      ]
     },
     "execution_count": 49,
     "metadata": {},
     "output_type": "execute_result"
    }
   ],
   "source": [
    "sen.isidentifier()"
   ]
  },
  {
   "cell_type": "code",
   "execution_count": 50,
   "id": "234340dc",
   "metadata": {},
   "outputs": [
    {
     "data": {
      "text/plain": [
       "True"
      ]
     },
     "execution_count": 50,
     "metadata": {},
     "output_type": "execute_result"
    }
   ],
   "source": [
    "sen.islower()"
   ]
  },
  {
   "cell_type": "code",
   "execution_count": 51,
   "id": "3e238621",
   "metadata": {},
   "outputs": [
    {
     "data": {
      "text/plain": [
       "False"
      ]
     },
     "execution_count": 51,
     "metadata": {},
     "output_type": "execute_result"
    }
   ],
   "source": [
    "sen.isupper()"
   ]
  },
  {
   "cell_type": "code",
   "execution_count": 63,
   "id": "70c429b9",
   "metadata": {},
   "outputs": [
    {
     "name": "stdout",
     "output_type": "stream",
     "text": [
      "<class 'int'>\n"
     ]
    }
   ],
   "source": [
    "num= 5\n",
    "print(type(num))"
   ]
  },
  {
   "cell_type": "code",
   "execution_count": 64,
   "id": "01c43eea",
   "metadata": {},
   "outputs": [
    {
     "ename": "AttributeError",
     "evalue": "'int' object has no attribute 'isdigit'",
     "output_type": "error",
     "traceback": [
      "\u001b[1;31m---------------------------------------------------------------------------\u001b[0m",
      "\u001b[1;31mAttributeError\u001b[0m                            Traceback (most recent call last)",
      "\u001b[1;32m~\\AppData\\Local\\Temp/ipykernel_6072/89041402.py\u001b[0m in \u001b[0;36m<module>\u001b[1;34m\u001b[0m\n\u001b[1;32m----> 1\u001b[1;33m \u001b[0mnum\u001b[0m\u001b[1;33m.\u001b[0m\u001b[0misdigit\u001b[0m\u001b[1;33m(\u001b[0m\u001b[1;33m)\u001b[0m\u001b[1;33m\u001b[0m\u001b[1;33m\u001b[0m\u001b[0m\n\u001b[0m",
      "\u001b[1;31mAttributeError\u001b[0m: 'int' object has no attribute 'isdigit'"
     ]
    }
   ],
   "source": [
    "num.isdigit()"
   ]
  },
  {
   "cell_type": "code",
   "execution_count": 76,
   "id": "c7ec2ee3",
   "metadata": {},
   "outputs": [],
   "source": [
    "email=  \" nayabnadeem@gmail.com \""
   ]
  },
  {
   "cell_type": "code",
   "execution_count": 77,
   "id": "b4a2debe",
   "metadata": {},
   "outputs": [
    {
     "data": {
      "text/plain": [
       "23"
      ]
     },
     "execution_count": 77,
     "metadata": {},
     "output_type": "execute_result"
    }
   ],
   "source": [
    "len(email)"
   ]
  },
  {
   "cell_type": "code",
   "execution_count": 78,
   "id": "a57acd9d",
   "metadata": {},
   "outputs": [
    {
     "data": {
      "text/plain": [
       "False"
      ]
     },
     "execution_count": 78,
     "metadata": {},
     "output_type": "execute_result"
    }
   ],
   "source": [
    "email.isnumeric()"
   ]
  },
  {
   "cell_type": "code",
   "execution_count": 79,
   "id": "4844114c",
   "metadata": {},
   "outputs": [
    {
     "data": {
      "text/plain": [
       "'nayabnadeem@gmail.com '"
      ]
     },
     "execution_count": 79,
     "metadata": {},
     "output_type": "execute_result"
    }
   ],
   "source": [
    "email.lstrip()"
   ]
  },
  {
   "cell_type": "code",
   "execution_count": 80,
   "id": "bf0e849d",
   "metadata": {},
   "outputs": [
    {
     "data": {
      "text/plain": [
       "' nayabnadeem@gmail.com'"
      ]
     },
     "execution_count": 80,
     "metadata": {},
     "output_type": "execute_result"
    }
   ],
   "source": [
    "email.rstrip()"
   ]
  },
  {
   "cell_type": "code",
   "execution_count": 81,
   "id": "9bdf2d2f",
   "metadata": {},
   "outputs": [
    {
     "ename": "SyntaxError",
     "evalue": "invalid syntax (Temp/ipykernel_6072/1812141021.py, line 1)",
     "output_type": "error",
     "traceback": [
      "\u001b[1;36m  File \u001b[1;32m\"C:\\Users\\Admin\\AppData\\Local\\Temp/ipykernel_6072/1812141021.py\"\u001b[1;36m, line \u001b[1;32m1\u001b[0m\n\u001b[1;33m    email= email.\u001b[0m\n\u001b[1;37m                 ^\u001b[0m\n\u001b[1;31mSyntaxError\u001b[0m\u001b[1;31m:\u001b[0m invalid syntax\n"
     ]
    }
   ],
   "source": [
    "email= email."
   ]
  },
  {
   "cell_type": "code",
   "execution_count": 83,
   "id": "975865d5",
   "metadata": {},
   "outputs": [
    {
     "data": {
      "text/plain": [
       "'nayabnadeem@gmail.com'"
      ]
     },
     "execution_count": 83,
     "metadata": {},
     "output_type": "execute_result"
    }
   ],
   "source": [
    "email.strip()"
   ]
  },
  {
   "cell_type": "code",
   "execution_count": 85,
   "id": "557c3f05",
   "metadata": {},
   "outputs": [],
   "source": [
    "email= email.strip()"
   ]
  },
  {
   "cell_type": "code",
   "execution_count": 86,
   "id": "8996d7b6",
   "metadata": {},
   "outputs": [
    {
     "data": {
      "text/plain": [
       "'nayabnadeem@gmail.com'"
      ]
     },
     "execution_count": 86,
     "metadata": {},
     "output_type": "execute_result"
    }
   ],
   "source": [
    "email"
   ]
  },
  {
   "cell_type": "code",
   "execution_count": 87,
   "id": "bdb031ec",
   "metadata": {},
   "outputs": [
    {
     "data": {
      "text/plain": [
       "False"
      ]
     },
     "execution_count": 87,
     "metadata": {},
     "output_type": "execute_result"
    }
   ],
   "source": [
    "email.isspace()"
   ]
  },
  {
   "cell_type": "code",
   "execution_count": 105,
   "id": "286db26a",
   "metadata": {},
   "outputs": [
    {
     "data": {
      "text/plain": [
       "'nayab     nadeem'"
      ]
     },
     "execution_count": 105,
     "metadata": {},
     "output_type": "execute_result"
    }
   ],
   "source": [
    "ny_name= \"nayab     nadeem\"\n",
    "ny_name"
   ]
  },
  {
   "cell_type": "code",
   "execution_count": 91,
   "id": "d0d19455",
   "metadata": {},
   "outputs": [
    {
     "data": {
      "text/plain": [
       "False"
      ]
     },
     "execution_count": 91,
     "metadata": {},
     "output_type": "execute_result"
    }
   ],
   "source": [
    "num.isspace()"
   ]
  },
  {
   "cell_type": "code",
   "execution_count": 94,
   "id": "3931fcbd",
   "metadata": {},
   "outputs": [
    {
     "data": {
      "text/plain": [
       "-1"
      ]
     },
     "execution_count": 94,
     "metadata": {},
     "output_type": "execute_result"
    }
   ],
   "source": [
    "num.find(\"p\")"
   ]
  },
  {
   "cell_type": "code",
   "execution_count": 95,
   "id": "2c7c2208",
   "metadata": {},
   "outputs": [],
   "source": [
    "email2 = \"sheikh@gmail.com\""
   ]
  },
  {
   "cell_type": "code",
   "execution_count": 96,
   "id": "c1208df4",
   "metadata": {},
   "outputs": [
    {
     "data": {
      "text/plain": [
       "-1"
      ]
     },
     "execution_count": 96,
     "metadata": {},
     "output_type": "execute_result"
    }
   ],
   "source": [
    "email2.find(\"z\")"
   ]
  },
  {
   "cell_type": "code",
   "execution_count": 97,
   "id": "481574d4",
   "metadata": {},
   "outputs": [
    {
     "data": {
      "text/plain": [
       "'i'"
      ]
     },
     "execution_count": 97,
     "metadata": {},
     "output_type": "execute_result"
    }
   ],
   "source": [
    "email2[3]"
   ]
  },
  {
   "cell_type": "code",
   "execution_count": 98,
   "id": "923391e9",
   "metadata": {},
   "outputs": [
    {
     "data": {
      "text/plain": [
       "16"
      ]
     },
     "execution_count": 98,
     "metadata": {},
     "output_type": "execute_result"
    }
   ],
   "source": [
    "len(email2)"
   ]
  },
  {
   "cell_type": "code",
   "execution_count": 100,
   "id": "31370f4b",
   "metadata": {},
   "outputs": [
    {
     "data": {
      "text/plain": [
       "'ikh@g'"
      ]
     },
     "execution_count": 100,
     "metadata": {},
     "output_type": "execute_result"
    }
   ],
   "source": [
    "email2[3:8]"
   ]
  },
  {
   "cell_type": "code",
   "execution_count": 103,
   "id": "5b015190",
   "metadata": {},
   "outputs": [
    {
     "ename": "SyntaxError",
     "evalue": "invalid syntax (Temp/ipykernel_6072/676118060.py, line 1)",
     "output_type": "error",
     "traceback": [
      "\u001b[1;36m  File \u001b[1;32m\"C:\\Users\\Admin\\AppData\\Local\\Temp/ipykernel_6072/676118060.py\"\u001b[1;36m, line \u001b[1;32m1\u001b[0m\n\u001b[1;33m    email2.find(\"i\",0:16)\u001b[0m\n\u001b[1;37m                     ^\u001b[0m\n\u001b[1;31mSyntaxError\u001b[0m\u001b[1;31m:\u001b[0m invalid syntax\n"
     ]
    }
   ],
   "source": [
    "email2.find(\"i\",0:16)"
   ]
  },
  {
   "cell_type": "code",
   "execution_count": 102,
   "id": "363766b2",
   "metadata": {},
   "outputs": [
    {
     "data": {
      "text/plain": [
       "16"
      ]
     },
     "execution_count": 102,
     "metadata": {},
     "output_type": "execute_result"
    }
   ],
   "source": [
    "len(email2)"
   ]
  },
  {
   "cell_type": "code",
   "execution_count": 107,
   "id": "7265fb4a",
   "metadata": {},
   "outputs": [
    {
     "ename": "SyntaxError",
     "evalue": "invalid syntax (Temp/ipykernel_6072/2932881963.py, line 1)",
     "output_type": "error",
     "traceback": [
      "\u001b[1;36m  File \u001b[1;32m\"C:\\Users\\Admin\\AppData\\Local\\Temp/ipykernel_6072/2932881963.py\"\u001b[1;36m, line \u001b[1;32m1\u001b[0m\n\u001b[1;33m    0h23\u001b[0m\n\u001b[1;37m     ^\u001b[0m\n\u001b[1;31mSyntaxError\u001b[0m\u001b[1;31m:\u001b[0m invalid syntax\n"
     ]
    }
   ],
   "source": [
    "0h23"
   ]
  },
  {
   "cell_type": "code",
   "execution_count": 6,
   "id": "71b3b500",
   "metadata": {},
   "outputs": [],
   "source": [
    "nums=[71,12,43,94,25,64,75,88,56,34,90,24,87,11,77,66]"
   ]
  },
  {
   "cell_type": "code",
   "execution_count": 4,
   "id": "f049ff1f",
   "metadata": {},
   "outputs": [
    {
     "data": {
      "text/plain": [
       "[12, 25, 43, 64, 71, 75, 88, 94]"
      ]
     },
     "execution_count": 4,
     "metadata": {},
     "output_type": "execute_result"
    }
   ],
   "source": [
    "nums.sort()\n",
    "nums"
   ]
  },
  {
   "cell_type": "code",
   "execution_count": 5,
   "id": "11d32598",
   "metadata": {},
   "outputs": [
    {
     "data": {
      "text/plain": [
       "[12, 25, 43, 64, 71, 75, 88, 94]"
      ]
     },
     "execution_count": 5,
     "metadata": {},
     "output_type": "execute_result"
    }
   ],
   "source": [
    "nums"
   ]
  },
  {
   "cell_type": "code",
   "execution_count": 7,
   "id": "18cc1422",
   "metadata": {},
   "outputs": [
    {
     "data": {
      "text/plain": [
       "[71, 12, 43, 94, 25, 64, 75, 88, 56, 34, 90, 24, 87, 11, 77, 66]"
      ]
     },
     "execution_count": 7,
     "metadata": {},
     "output_type": "execute_result"
    }
   ],
   "source": [
    "nums"
   ]
  },
  {
   "cell_type": "code",
   "execution_count": 10,
   "id": "d0b99dc2",
   "metadata": {},
   "outputs": [
    {
     "data": {
      "text/plain": [
       "34"
      ]
     },
     "execution_count": 10,
     "metadata": {},
     "output_type": "execute_result"
    }
   ],
   "source": [
    "nums[9]"
   ]
  },
  {
   "cell_type": "code",
   "execution_count": 11,
   "id": "4438767f",
   "metadata": {},
   "outputs": [
    {
     "data": {
      "text/plain": [
       "4"
      ]
     },
     "execution_count": 11,
     "metadata": {},
     "output_type": "execute_result"
    }
   ],
   "source": [
    "nums.index(25)"
   ]
  },
  {
   "cell_type": "code",
   "execution_count": 15,
   "id": "00ed41da",
   "metadata": {},
   "outputs": [
    {
     "data": {
      "text/plain": [
       "list"
      ]
     },
     "execution_count": 15,
     "metadata": {},
     "output_type": "execute_result"
    }
   ],
   "source": [
    "type(nums[12:13])"
   ]
  },
  {
   "cell_type": "code",
   "execution_count": 14,
   "id": "1416fbc1",
   "metadata": {},
   "outputs": [
    {
     "data": {
      "text/plain": [
       "int"
      ]
     },
     "execution_count": 14,
     "metadata": {},
     "output_type": "execute_result"
    }
   ],
   "source": [
    "type(nums[12])"
   ]
  },
  {
   "cell_type": "code",
   "execution_count": 16,
   "id": "a5a27507",
   "metadata": {},
   "outputs": [
    {
     "data": {
      "text/plain": [
       "[]"
      ]
     },
     "execution_count": 16,
     "metadata": {},
     "output_type": "execute_result"
    }
   ],
   "source": [
    "nums[20:28]"
   ]
  },
  {
   "cell_type": "code",
   "execution_count": 19,
   "id": "a8412762",
   "metadata": {},
   "outputs": [],
   "source": [
    "slicednum= nums[5:8]"
   ]
  },
  {
   "cell_type": "code",
   "execution_count": 20,
   "id": "dbaf617a",
   "metadata": {},
   "outputs": [
    {
     "data": {
      "text/plain": [
       "[64, 75, 88]"
      ]
     },
     "execution_count": 20,
     "metadata": {},
     "output_type": "execute_result"
    }
   ],
   "source": [
    "slicednum"
   ]
  },
  {
   "cell_type": "code",
   "execution_count": 1,
   "id": "b5eded55",
   "metadata": {},
   "outputs": [
    {
     "name": "stdout",
     "output_type": "stream",
     "text": [
      "Enter your favourite dishes? 1\n",
      "Enter your favourite dishes? 2\n",
      "Enter your favourite dishes? 3\n",
      "Enter your favourite dishes? 45\n",
      "Enter your favourite dishes? 454\n",
      "Enter your favourite dishes? 5\n",
      "Enter your favourite dishes? 75\n",
      "Enter your favourite dishes? 3423\n",
      "Enter your favourite dishes? 5676\n",
      "Enter your favourite dishes? 7\n",
      "['1', '2', '3', '45', '454', '5', '75', '3423', '5676', '7']\n"
     ]
    }
   ],
   "source": [
    "dishes=[]\n",
    "\n",
    "for a in range(10):\n",
    "    x=input(\"Enter your favourite dishes? \")\n",
    "    dishes.append(x)\n",
    "print(dishes)\n",
    "    \n"
   ]
  },
  {
   "cell_type": "markdown",
   "id": "6637d3aa",
   "metadata": {},
   "source": [
    "dishes=\n"
   ]
  }
 ],
 "metadata": {
  "kernelspec": {
   "display_name": "Python 3 (ipykernel)",
   "language": "python",
   "name": "python3"
  },
  "language_info": {
   "codemirror_mode": {
    "name": "ipython",
    "version": 3
   },
   "file_extension": ".py",
   "mimetype": "text/x-python",
   "name": "python",
   "nbconvert_exporter": "python",
   "pygments_lexer": "ipython3",
   "version": "3.9.7"
  }
 },
 "nbformat": 4,
 "nbformat_minor": 5
}
