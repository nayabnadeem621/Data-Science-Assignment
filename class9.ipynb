{
 "cells": [
  {
   "cell_type": "code",
   "execution_count": null,
   "id": "06d21fbe",
   "metadata": {},
   "outputs": [],
   "source": [
    "input()"
   ]
  },
  {
   "cell_type": "code",
   "execution_count": null,
   "id": "d9806326",
   "metadata": {},
   "outputs": [],
   "source": [
    "input(\"what's your name \")"
   ]
  },
  {
   "cell_type": "code",
   "execution_count": 3,
   "id": "3fa89136",
   "metadata": {},
   "outputs": [],
   "source": [
    "list=[11,44,66,33,88,6,99,77,22,55,454,336,67,23,56,2342,76,42,65,768,243,47]"
   ]
  },
  {
   "cell_type": "code",
   "execution_count": 4,
   "id": "521b1ee5",
   "metadata": {},
   "outputs": [
    {
     "data": {
      "text/plain": [
       "[11, 44, 66, 33, 88, 6, 99, 77]"
      ]
     },
     "execution_count": 4,
     "metadata": {},
     "output_type": "execute_result"
    }
   ],
   "source": [
    "list[:8]"
   ]
  },
  {
   "cell_type": "code",
   "execution_count": 5,
   "id": "e1da21ae",
   "metadata": {},
   "outputs": [
    {
     "data": {
      "text/plain": [
       "[22, 55, 454, 336, 67, 23, 56, 2342, 76, 42, 65, 768, 243, 47]"
      ]
     },
     "execution_count": 5,
     "metadata": {},
     "output_type": "execute_result"
    }
   ],
   "source": [
    "list[8:]"
   ]
  },
  {
   "cell_type": "markdown",
   "id": "a9da1fda",
   "metadata": {},
   "source": [
    "# Copying a list"
   ]
  },
  {
   "cell_type": "code",
   "execution_count": 6,
   "id": "7a75729e",
   "metadata": {},
   "outputs": [
    {
     "data": {
      "text/plain": [
       "[11,\n",
       " 44,\n",
       " 66,\n",
       " 33,\n",
       " 88,\n",
       " 6,\n",
       " 99,\n",
       " 77,\n",
       " 22,\n",
       " 55,\n",
       " 454,\n",
       " 336,\n",
       " 67,\n",
       " 23,\n",
       " 56,\n",
       " 2342,\n",
       " 76,\n",
       " 42,\n",
       " 65,\n",
       " 768,\n",
       " 243,\n",
       " 47]"
      ]
     },
     "execution_count": 6,
     "metadata": {},
     "output_type": "execute_result"
    }
   ],
   "source": [
    "list1=list.copy()\n",
    "list1"
   ]
  },
  {
   "cell_type": "code",
   "execution_count": 7,
   "id": "82cfb109",
   "metadata": {},
   "outputs": [
    {
     "data": {
      "text/plain": [
       "[11,\n",
       " 44,\n",
       " 66,\n",
       " 33,\n",
       " 88,\n",
       " 6,\n",
       " 99,\n",
       " 77,\n",
       " 22,\n",
       " 55,\n",
       " 454,\n",
       " 336,\n",
       " 67,\n",
       " 23,\n",
       " 56,\n",
       " 2342,\n",
       " 76,\n",
       " 42,\n",
       " 65,\n",
       " 768,\n",
       " 243,\n",
       " 47]"
      ]
     },
     "execution_count": 7,
     "metadata": {},
     "output_type": "execute_result"
    }
   ],
   "source": [
    "list2=list[:]\n",
    "list2"
   ]
  },
  {
   "cell_type": "code",
   "execution_count": 10,
   "id": "dde06be4",
   "metadata": {},
   "outputs": [
    {
     "data": {
      "text/plain": [
       "[11,\n",
       " 44,\n",
       " 66,\n",
       " 33,\n",
       " 88,\n",
       " 6,\n",
       " 99,\n",
       " 77,\n",
       " 22,\n",
       " 55,\n",
       " 454,\n",
       " 336,\n",
       " 67,\n",
       " 23,\n",
       " 56,\n",
       " 2342,\n",
       " 76,\n",
       " 42,\n",
       " 65,\n",
       " 768,\n",
       " 243,\n",
       " 47]"
      ]
     },
     "execution_count": 10,
     "metadata": {},
     "output_type": "execute_result"
    }
   ],
   "source": [
    "list3=list[0:22+1]\n",
    "list3"
   ]
  },
  {
   "cell_type": "code",
   "execution_count": 8,
   "id": "64d2ab69",
   "metadata": {},
   "outputs": [
    {
     "data": {
      "text/plain": [
       "22"
      ]
     },
     "execution_count": 8,
     "metadata": {},
     "output_type": "execute_result"
    }
   ],
   "source": [
    "len(list)"
   ]
  },
  {
   "cell_type": "code",
   "execution_count": 11,
   "id": "8a09de18",
   "metadata": {},
   "outputs": [
    {
     "data": {
      "text/plain": [
       "1400701175680"
      ]
     },
     "execution_count": 11,
     "metadata": {},
     "output_type": "execute_result"
    }
   ],
   "source": [
    "id(list)"
   ]
  },
  {
   "cell_type": "code",
   "execution_count": 12,
   "id": "8367a42a",
   "metadata": {},
   "outputs": [
    {
     "data": {
      "text/plain": [
       "1400716940096"
      ]
     },
     "execution_count": 12,
     "metadata": {},
     "output_type": "execute_result"
    }
   ],
   "source": [
    "id(list1)"
   ]
  },
  {
   "cell_type": "code",
   "execution_count": 13,
   "id": "1d3f1270",
   "metadata": {},
   "outputs": [],
   "source": [
    "alist=list"
   ]
  },
  {
   "cell_type": "code",
   "execution_count": 14,
   "id": "f46d20eb",
   "metadata": {},
   "outputs": [
    {
     "data": {
      "text/plain": [
       "[11,\n",
       " 44,\n",
       " 66,\n",
       " 33,\n",
       " 88,\n",
       " 6,\n",
       " 99,\n",
       " 77,\n",
       " 22,\n",
       " 55,\n",
       " 454,\n",
       " 336,\n",
       " 67,\n",
       " 23,\n",
       " 56,\n",
       " 2342,\n",
       " 76,\n",
       " 42,\n",
       " 65,\n",
       " 768,\n",
       " 243,\n",
       " 47]"
      ]
     },
     "execution_count": 14,
     "metadata": {},
     "output_type": "execute_result"
    }
   ],
   "source": [
    "alist"
   ]
  },
  {
   "cell_type": "code",
   "execution_count": 15,
   "id": "0ce5d811",
   "metadata": {},
   "outputs": [
    {
     "data": {
      "text/plain": [
       "1400701175680"
      ]
     },
     "execution_count": 15,
     "metadata": {},
     "output_type": "execute_result"
    }
   ],
   "source": [
    "id(alist)"
   ]
  },
  {
   "cell_type": "code",
   "execution_count": null,
   "id": "68d2f9d7",
   "metadata": {},
   "outputs": [],
   "source": []
  }
 ],
 "metadata": {
  "kernelspec": {
   "display_name": "Python 3 (ipykernel)",
   "language": "python",
   "name": "python3"
  },
  "language_info": {
   "codemirror_mode": {
    "name": "ipython",
    "version": 3
   },
   "file_extension": ".py",
   "mimetype": "text/x-python",
   "name": "python",
   "nbconvert_exporter": "python",
   "pygments_lexer": "ipython3",
   "version": "3.9.7"
  }
 },
 "nbformat": 4,
 "nbformat_minor": 5
}
