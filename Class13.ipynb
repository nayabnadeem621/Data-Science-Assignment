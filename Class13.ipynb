{
 "cells": [
  {
   "cell_type": "code",
   "execution_count": 7,
   "id": "25e910a2",
   "metadata": {},
   "outputs": [],
   "source": [
    "def square_of_function():\n",
    "    num= int(input(\"Enter your number \"))\n",
    "    square= num**2\n",
    "    print(f\"The suqare of {num} is {square}\")"
   ]
  },
  {
   "cell_type": "code",
   "execution_count": 8,
   "id": "ea9273e3",
   "metadata": {},
   "outputs": [
    {
     "name": "stdout",
     "output_type": "stream",
     "text": [
      "Enter your number 5\n",
      "The suqare of 5 is 25\n"
     ]
    }
   ],
   "source": [
    "square_of_function()"
   ]
  },
  {
   "cell_type": "code",
   "execution_count": 16,
   "id": "3afe636d",
   "metadata": {},
   "outputs": [],
   "source": [
    "def area_square_of_function():\n",
    "    length= float(input(\"Enter your length of square \"))\n",
    "    breadth= float(input(\"Enter your breadth of square \"))\n",
    "    area= length*breadth\n",
    "    print(f\"The area of square with length : {length}\\nand breadth : {breadth}\\nis {area}\")"
   ]
  },
  {
   "cell_type": "code",
   "execution_count": 17,
   "id": "8ce700c1",
   "metadata": {},
   "outputs": [
    {
     "name": "stdout",
     "output_type": "stream",
     "text": [
      "Enter your length of square 2\n",
      "Enter your breadth of square 3.4\n",
      "The area of square with length : 2.0\n",
      "and breadth : 3.4\n",
      "is 6.8\n"
     ]
    }
   ],
   "source": [
    "area_square_of_function()"
   ]
  },
  {
   "cell_type": "code",
   "execution_count": 1,
   "id": "bae846e0",
   "metadata": {},
   "outputs": [
    {
     "name": "stdout",
     "output_type": "stream",
     "text": [
      "Emil Refsnes\n",
      "Tobias Refsnes\n",
      "Linus Refsnes\n"
     ]
    }
   ],
   "source": [
    "def my_function(fname):\n",
    "  print(fname + \" Refsnes\")\n",
    "\n",
    "my_function(\"Emil\")\n",
    "my_function(\"Tobias\")\n",
    "my_function(\"Linus\")\n"
   ]
  },
  {
   "cell_type": "code",
   "execution_count": 2,
   "id": "c0e49414",
   "metadata": {},
   "outputs": [
    {
     "name": "stdout",
     "output_type": "stream",
     "text": [
      "Emil Refsnes\n"
     ]
    }
   ],
   "source": [
    "def my_function(fname, lname):\n",
    "  print(fname + \" \" + lname)\n",
    "\n",
    "my_function(\"Emil\", \"Refsnes\")"
   ]
  },
  {
   "cell_type": "code",
   "execution_count": 3,
   "id": "b24c3090",
   "metadata": {},
   "outputs": [
    {
     "name": "stdout",
     "output_type": "stream",
     "text": [
      "The youngest child is Linus\n"
     ]
    }
   ],
   "source": [
    "def my_function(*kids):\n",
    "  print(\"The youngest child is \" + kids[2])\n",
    "\n",
    "my_function(\"Emil\", \"Tobias\", \"Linus\")"
   ]
  },
  {
   "cell_type": "markdown",
   "id": "345e43a4",
   "metadata": {},
   "source": [
    "# PARAMETERS & ARGUMENTS OF A FUNCTION"
   ]
  },
  {
   "cell_type": "code",
   "execution_count": 24,
   "id": "792af002",
   "metadata": {},
   "outputs": [],
   "source": [
    "def salary_increament(name,yos,currentSalary):\n",
    "    \n",
    "    if yos>=1:\n",
    "        if (currentSalary<50000):\n",
    "            increament = currentSalary*.25\n",
    "            NewSalary= currentSalary + increament\n",
    "            \n",
    "        elif ((currentSalary>=50000) and (currentSalary<100000)):\n",
    "            increament = currentSalary*.15\n",
    "            NewSalary= currentSalary + increament\n",
    "            \n",
    "        elif ((currentSalary>=100000) and (currentSalary<=150000)):\n",
    "            increament = currentSalary*.10\n",
    "            NewSalary= currentSalary + increament\n",
    "            \n",
    "        else:\n",
    "            increament = currentSalary*.05\n",
    "            NewSalary= currentSalary + increament\n",
    "            \n",
    "        print(f\"\"\"\n",
    "               Name of Employee : {name}\n",
    "               Years of service : {yos}\n",
    "               Current Salary   : {currentSalary}\n",
    "               Increament Amount: {increament}\n",
    "              New Salary       : {NewSalary}\n",
    "              \"\"\")\n",
    "    else:\n",
    "        print(\"There is no increament for You\")\n",
    " \n",
    "    "
   ]
  },
  {
   "cell_type": "code",
   "execution_count": 23,
   "id": "bef064e3",
   "metadata": {},
   "outputs": [
    {
     "name": "stdout",
     "output_type": "stream",
     "text": [
      "\n",
      "               Name of Employee : Nayab\n",
      "               Years of service : 3\n",
      "               Current Salary   : 100000\n",
      "               Increament Amount: 10000.0\n",
      "              New Salary       : 110000.0\n"
     ]
    }
   ],
   "source": [
    "salary_increament(\"Nayab\",3,100000)"
   ]
  },
  {
   "cell_type": "code",
   "execution_count": 25,
   "id": "eb265bb4",
   "metadata": {},
   "outputs": [
    {
     "name": "stdout",
     "output_type": "stream",
     "text": [
      "There is no increament for You\n"
     ]
    }
   ],
   "source": [
    "salary_increament(\"Ali\",0.5,65000)"
   ]
  },
  {
   "cell_type": "code",
   "execution_count": 28,
   "id": "9959e444",
   "metadata": {},
   "outputs": [
    {
     "name": "stdout",
     "output_type": "stream",
     "text": [
      "\n",
      "               Name of Employee : Ali\n",
      "               Years of service : 2\n",
      "               Current Salary   : 65000\n",
      "               Increament Amount: 9750.0\n",
      "              New Salary       : 74750.0\n",
      "              \n"
     ]
    }
   ],
   "source": [
    "salary_increament(name=\"Ali\",yos=2,currentSalary=65000)"
   ]
  },
  {
   "cell_type": "code",
   "execution_count": null,
   "id": "35c46643",
   "metadata": {},
   "outputs": [],
   "source": []
  }
 ],
 "metadata": {
  "kernelspec": {
   "display_name": "Python 3 (ipykernel)",
   "language": "python",
   "name": "python3"
  },
  "language_info": {
   "codemirror_mode": {
    "name": "ipython",
    "version": 3
   },
   "file_extension": ".py",
   "mimetype": "text/x-python",
   "name": "python",
   "nbconvert_exporter": "python",
   "pygments_lexer": "ipython3",
   "version": "3.9.7"
  }
 },
 "nbformat": 4,
 "nbformat_minor": 5
}
