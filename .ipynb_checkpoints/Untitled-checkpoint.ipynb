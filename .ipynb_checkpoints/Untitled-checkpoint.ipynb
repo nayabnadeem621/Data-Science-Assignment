{
 "cells": [
  {
   "cell_type": "code",
   "execution_count": 12,
   "id": "a5221f39",
   "metadata": {},
   "outputs": [],
   "source": [
    "name = \"nayab\" "
   ]
  },
  {
   "cell_type": "code",
   "execution_count": 3,
   "id": "ad5823f8",
   "metadata": {},
   "outputs": [
    {
     "data": {
      "text/plain": [
       "'Nayab'"
      ]
     },
     "execution_count": 3,
     "metadata": {},
     "output_type": "execute_result"
    }
   ],
   "source": [
    "name.capitalize()"
   ]
  },
  {
   "cell_type": "code",
   "execution_count": 5,
   "id": "9dc42241",
   "metadata": {},
   "outputs": [
    {
     "data": {
      "text/plain": [
       "'NAYAB'"
      ]
     },
     "execution_count": 5,
     "metadata": {},
     "output_type": "execute_result"
    }
   ],
   "source": [
    "name.upper()"
   ]
  },
  {
   "cell_type": "code",
   "execution_count": 6,
   "id": "d937c92b",
   "metadata": {},
   "outputs": [
    {
     "data": {
      "text/plain": [
       "'nayab'"
      ]
     },
     "execution_count": 6,
     "metadata": {},
     "output_type": "execute_result"
    }
   ],
   "source": [
    "name.lower()"
   ]
  },
  {
   "cell_type": "code",
   "execution_count": 17,
   "id": "d59faaf1",
   "metadata": {},
   "outputs": [
    {
     "name": "stdout",
     "output_type": "stream",
     "text": [
      "Nayab\n"
     ]
    }
   ],
   "source": [
    "name = name.capitalize()\n",
    "print(name)"
   ]
  },
  {
   "cell_type": "code",
   "execution_count": 28,
   "id": "3967c0e2",
   "metadata": {},
   "outputs": [
    {
     "data": {
      "text/plain": [
       "3"
      ]
     },
     "execution_count": 28,
     "metadata": {},
     "output_type": "execute_result"
    }
   ],
   "source": [
    "name.find(\"a\", 2)"
   ]
  },
  {
   "cell_type": "code",
   "execution_count": 34,
   "id": "07d30f74",
   "metadata": {},
   "outputs": [
    {
     "data": {
      "text/plain": [
       "0"
      ]
     },
     "execution_count": 34,
     "metadata": {},
     "output_type": "execute_result"
    }
   ],
   "source": [
    "name.count(\"A\")"
   ]
  },
  {
   "cell_type": "code",
   "execution_count": 36,
   "id": "6979d872",
   "metadata": {},
   "outputs": [],
   "source": [
    "sen = \"my student is a very good student\""
   ]
  },
  {
   "cell_type": "code",
   "execution_count": 40,
   "id": "1616f949",
   "metadata": {},
   "outputs": [
    {
     "data": {
      "text/plain": [
       "2"
      ]
     },
     "execution_count": 40,
     "metadata": {},
     "output_type": "execute_result"
    }
   ],
   "source": [
    "sen.count(\"student\", )"
   ]
  },
  {
   "cell_type": "code",
   "execution_count": 42,
   "id": "18ad0f48",
   "metadata": {},
   "outputs": [
    {
     "data": {
      "text/plain": [
       "True"
      ]
     },
     "execution_count": 42,
     "metadata": {},
     "output_type": "execute_result"
    }
   ],
   "source": [
    "sen.endswith(\"t\")"
   ]
  },
  {
   "cell_type": "code",
   "execution_count": null,
   "id": "14adacff",
   "metadata": {},
   "outputs": [],
   "source": []
  }
 ],
 "metadata": {
  "kernelspec": {
   "display_name": "Python 3 (ipykernel)",
   "language": "python",
   "name": "python3"
  },
  "language_info": {
   "codemirror_mode": {
    "name": "ipython",
    "version": 3
   },
   "file_extension": ".py",
   "mimetype": "text/x-python",
   "name": "python",
   "nbconvert_exporter": "python",
   "pygments_lexer": "ipython3",
   "version": "3.9.7"
  }
 },
 "nbformat": 4,
 "nbformat_minor": 5
}
