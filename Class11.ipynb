{
 "cells": [
  {
   "cell_type": "code",
   "execution_count": 6,
   "id": "e8d72751",
   "metadata": {},
   "outputs": [],
   "source": [
    "adic={\"name\": \"nayab\", \"age\":24}"
   ]
  },
  {
   "cell_type": "code",
   "execution_count": 7,
   "id": "0d64d68b",
   "metadata": {},
   "outputs": [
    {
     "data": {
      "text/plain": [
       "dict"
      ]
     },
     "execution_count": 7,
     "metadata": {},
     "output_type": "execute_result"
    }
   ],
   "source": [
    "type(adic)"
   ]
  },
  {
   "cell_type": "code",
   "execution_count": 8,
   "id": "e23b96ec",
   "metadata": {},
   "outputs": [],
   "source": [
    "emptyDic={}"
   ]
  },
  {
   "cell_type": "code",
   "execution_count": 9,
   "id": "088793c4",
   "metadata": {},
   "outputs": [
    {
     "data": {
      "text/plain": [
       "dict"
      ]
     },
     "execution_count": 9,
     "metadata": {},
     "output_type": "execute_result"
    }
   ],
   "source": [
    "type(emptyDic)"
   ]
  },
  {
   "cell_type": "code",
   "execution_count": 11,
   "id": "8d161cbd",
   "metadata": {},
   "outputs": [],
   "source": [
    "adic[\"city\"]= \"Karachi\""
   ]
  },
  {
   "cell_type": "code",
   "execution_count": 12,
   "id": "8dbb28b3",
   "metadata": {},
   "outputs": [
    {
     "data": {
      "text/plain": [
       "{'name': 'nayab', 'age': 24, 'city': 'Karachi'}"
      ]
     },
     "execution_count": 12,
     "metadata": {},
     "output_type": "execute_result"
    }
   ],
   "source": [
    "adic"
   ]
  },
  {
   "cell_type": "code",
   "execution_count": 13,
   "id": "5af45a87",
   "metadata": {},
   "outputs": [],
   "source": [
    "adic[\"city\"]= \"Islamabad\""
   ]
  },
  {
   "cell_type": "code",
   "execution_count": 14,
   "id": "21997f2a",
   "metadata": {},
   "outputs": [
    {
     "data": {
      "text/plain": [
       "{'name': 'nayab', 'age': 24, 'city': 'Islamabad'}"
      ]
     },
     "execution_count": 14,
     "metadata": {},
     "output_type": "execute_result"
    }
   ],
   "source": [
    "adic"
   ]
  },
  {
   "cell_type": "code",
   "execution_count": 15,
   "id": "39e5d918",
   "metadata": {},
   "outputs": [
    {
     "data": {
      "text/plain": [
       "'Islamabad'"
      ]
     },
     "execution_count": 15,
     "metadata": {},
     "output_type": "execute_result"
    }
   ],
   "source": [
    "adic[\"city\"]"
   ]
  },
  {
   "cell_type": "code",
   "execution_count": 18,
   "id": "f2bb0b12",
   "metadata": {},
   "outputs": [
    {
     "data": {
      "text/plain": [
       "'nayab'"
      ]
     },
     "execution_count": 18,
     "metadata": {},
     "output_type": "execute_result"
    }
   ],
   "source": [
    " adic.get(\"name\")"
   ]
  },
  {
   "cell_type": "code",
   "execution_count": 19,
   "id": "aea8ae39",
   "metadata": {},
   "outputs": [],
   "source": [
    "del adic[\"city\"]"
   ]
  },
  {
   "cell_type": "code",
   "execution_count": 3,
   "id": "de1f1e47",
   "metadata": {},
   "outputs": [],
   "source": [
    "adic={\"name\": \"nayab\", \"age\":24}"
   ]
  },
  {
   "cell_type": "code",
   "execution_count": 4,
   "id": "f96e8119",
   "metadata": {},
   "outputs": [],
   "source": [
    "adic[\"course\"]= \"Python\""
   ]
  },
  {
   "cell_type": "code",
   "execution_count": 6,
   "id": "0e1d682d",
   "metadata": {},
   "outputs": [],
   "source": [
    "adic[\"course_timing\"]=\"9 to 12\""
   ]
  },
  {
   "cell_type": "code",
   "execution_count": 7,
   "id": "8f637ddd",
   "metadata": {},
   "outputs": [
    {
     "data": {
      "text/plain": [
       "{'name': 'nayab', 'age': 24, 'course': 'Python', 'course_timing': '9 to 12'}"
      ]
     },
     "execution_count": 7,
     "metadata": {},
     "output_type": "execute_result"
    }
   ],
   "source": [
    "adic"
   ]
  },
  {
   "cell_type": "code",
   "execution_count": 8,
   "id": "de283437",
   "metadata": {},
   "outputs": [
    {
     "name": "stdout",
     "output_type": "stream",
     "text": [
      "name\n",
      "age\n",
      "course\n",
      "course_timing\n"
     ]
    }
   ],
   "source": [
    "for roll1 in adic:\n",
    "    print(roll1)"
   ]
  },
  {
   "cell_type": "code",
   "execution_count": 12,
   "id": "788be1f2",
   "metadata": {},
   "outputs": [
    {
     "name": "stdout",
     "output_type": "stream",
     "text": [
      "name\n",
      "age\n",
      "course\n",
      "course_timing\n"
     ]
    }
   ],
   "source": [
    "for k in adic.keys():\n",
    "    print(k)"
   ]
  },
  {
   "cell_type": "code",
   "execution_count": 13,
   "id": "00080eec",
   "metadata": {},
   "outputs": [
    {
     "name": "stdout",
     "output_type": "stream",
     "text": [
      "nayab\n",
      "24\n",
      "Python\n",
      "9 to 12\n"
     ]
    }
   ],
   "source": [
    "for v in adic.values():\n",
    "    print(v)"
   ]
  },
  {
   "cell_type": "code",
   "execution_count": 15,
   "id": "fbd8108d",
   "metadata": {},
   "outputs": [
    {
     "name": "stdout",
     "output_type": "stream",
     "text": [
      "nayab\n",
      "24\n",
      "Python\n",
      "9 to 12\n"
     ]
    }
   ],
   "source": [
    "for keys in adic.keys():\n",
    "    print(adic[keys])"
   ]
  },
  {
   "cell_type": "code",
   "execution_count": 18,
   "id": "2b2fa1eb",
   "metadata": {},
   "outputs": [
    {
     "name": "stdout",
     "output_type": "stream",
     "text": [
      "The key is name and the value is nayab\n",
      "The key is age and the value is 24\n",
      "The key is course and the value is Python\n",
      "The key is course_timing and the value is 9 to 12\n"
     ]
    }
   ],
   "source": [
    "for keys in adic.keys():\n",
    "    print(f\"The key is {keys} and the value is {adic[keys]}\")"
   ]
  },
  {
   "cell_type": "code",
   "execution_count": 19,
   "id": "4fbdbf8e",
   "metadata": {},
   "outputs": [
    {
     "name": "stdout",
     "output_type": "stream",
     "text": [
      "('name', 'nayab')\n",
      "('age', 24)\n",
      "('course', 'Python')\n",
      "('course_timing', '9 to 12')\n"
     ]
    }
   ],
   "source": [
    "for xyz in adic.items():\n",
    "    print(xyz)"
   ]
  },
  {
   "cell_type": "code",
   "execution_count": 22,
   "id": "277b570c",
   "metadata": {},
   "outputs": [
    {
     "name": "stdout",
     "output_type": "stream",
     "text": [
      "Key: name                value: nayab\n",
      "Key: age                value: 24\n",
      "Key: course                value: Python\n",
      "Key: course_timing                value: 9 to 12\n"
     ]
    }
   ],
   "source": [
    "for key,value in adic.items():\n",
    "    print(f\"Key: {key}                value: {value}\")"
   ]
  },
  {
   "cell_type": "code",
   "execution_count": 23,
   "id": "a97d1829",
   "metadata": {},
   "outputs": [
    {
     "name": "stdout",
     "output_type": "stream",
     "text": [
      "Key: nayab                value: name\n",
      "Key: 24                value: age\n",
      "Key: Python                value: course\n",
      "Key: 9 to 12                value: course_timing\n"
     ]
    }
   ],
   "source": [
    "for value,key in adic.items():\n",
    "    print(f\"Key: {key}                value: {value}\")"
   ]
  },
  {
   "cell_type": "code",
   "execution_count": 1,
   "id": "df6db559",
   "metadata": {},
   "outputs": [],
   "source": [
    " class_python= { \"students\":[ 'nayab','hamza', 'huzaifa','alishba'],\n",
    "                \"courses\":[\"python\",'GD','chatbot','networking'],\n",
    "                \"age\":[21,32,21,22],\n",
    "                \"days\":[\"monday\",'tuesday','wednesdat','thursday']\n",
    "     \n",
    " }"
   ]
  },
  {
   "cell_type": "code",
   "execution_count": 2,
   "id": "066e17a8",
   "metadata": {},
   "outputs": [
    {
     "data": {
      "text/plain": [
       "['python', 'GD', 'chatbot', 'networking']"
      ]
     },
     "execution_count": 2,
     "metadata": {},
     "output_type": "execute_result"
    }
   ],
   "source": [
    "class_python[\"courses\"]"
   ]
  },
  {
   "cell_type": "code",
   "execution_count": 3,
   "id": "a6a839da",
   "metadata": {},
   "outputs": [
    {
     "name": "stdout",
     "output_type": "stream",
     "text": [
      "['nayab', 'hamza', 'huzaifa', 'alishba']\n",
      "['python', 'GD', 'chatbot', 'networking']\n",
      "[21, 32, 21, 22]\n",
      "['monday', 'tuesday', 'wednesdat', 'thursday']\n"
     ]
    }
   ],
   "source": [
    "for keys,values in class_python.items():\n",
    "    print(values)"
   ]
  },
  {
   "cell_type": "code",
   "execution_count": 4,
   "id": "d2b222c0",
   "metadata": {},
   "outputs": [
    {
     "name": "stdout",
     "output_type": "stream",
     "text": [
      "hamza\n",
      "GD\n",
      "32\n",
      "tuesday\n"
     ]
    }
   ],
   "source": [
    "for keys,values in class_python.items():\n",
    "    print(values[1])"
   ]
  },
  {
   "cell_type": "code",
   "execution_count": 5,
   "id": "b015d24c",
   "metadata": {},
   "outputs": [],
   "source": [
    "import pandas"
   ]
  },
  {
   "cell_type": "code",
   "execution_count": 6,
   "id": "ca5d2f56",
   "metadata": {},
   "outputs": [
    {
     "data": {
      "text/html": [
       "<div>\n",
       "<style scoped>\n",
       "    .dataframe tbody tr th:only-of-type {\n",
       "        vertical-align: middle;\n",
       "    }\n",
       "\n",
       "    .dataframe tbody tr th {\n",
       "        vertical-align: top;\n",
       "    }\n",
       "\n",
       "    .dataframe thead th {\n",
       "        text-align: right;\n",
       "    }\n",
       "</style>\n",
       "<table border=\"1\" class=\"dataframe\">\n",
       "  <thead>\n",
       "    <tr style=\"text-align: right;\">\n",
       "      <th></th>\n",
       "      <th>students</th>\n",
       "      <th>courses</th>\n",
       "      <th>age</th>\n",
       "      <th>days</th>\n",
       "    </tr>\n",
       "  </thead>\n",
       "  <tbody>\n",
       "    <tr>\n",
       "      <th>0</th>\n",
       "      <td>nayab</td>\n",
       "      <td>python</td>\n",
       "      <td>21</td>\n",
       "      <td>monday</td>\n",
       "    </tr>\n",
       "    <tr>\n",
       "      <th>1</th>\n",
       "      <td>hamza</td>\n",
       "      <td>GD</td>\n",
       "      <td>32</td>\n",
       "      <td>tuesday</td>\n",
       "    </tr>\n",
       "    <tr>\n",
       "      <th>2</th>\n",
       "      <td>huzaifa</td>\n",
       "      <td>chatbot</td>\n",
       "      <td>21</td>\n",
       "      <td>wednesdat</td>\n",
       "    </tr>\n",
       "    <tr>\n",
       "      <th>3</th>\n",
       "      <td>alishba</td>\n",
       "      <td>networking</td>\n",
       "      <td>22</td>\n",
       "      <td>thursday</td>\n",
       "    </tr>\n",
       "  </tbody>\n",
       "</table>\n",
       "</div>"
      ],
      "text/plain": [
       "  students     courses  age       days\n",
       "0    nayab      python   21     monday\n",
       "1    hamza          GD   32    tuesday\n",
       "2  huzaifa     chatbot   21  wednesdat\n",
       "3  alishba  networking   22   thursday"
      ]
     },
     "execution_count": 6,
     "metadata": {},
     "output_type": "execute_result"
    }
   ],
   "source": [
    "pandas.DataFrame(class_python)"
   ]
  },
  {
   "cell_type": "code",
   "execution_count": 7,
   "id": "68150df6",
   "metadata": {},
   "outputs": [
    {
     "data": {
      "text/plain": [
       "['python', 'GD', 'chatbot', 'networking']"
      ]
     },
     "execution_count": 7,
     "metadata": {},
     "output_type": "execute_result"
    }
   ],
   "source": [
    "class_python[\"courses\"]"
   ]
  },
  {
   "cell_type": "code",
   "execution_count": 8,
   "id": "f2c6d633",
   "metadata": {},
   "outputs": [],
   "source": [
    "a=['python', 'GD', 'chatbot', 'networking']\n"
   ]
  },
  {
   "cell_type": "code",
   "execution_count": 9,
   "id": "3955ca70",
   "metadata": {},
   "outputs": [
    {
     "name": "stdout",
     "output_type": "stream",
     "text": [
      "False\n",
      "False\n",
      "True\n"
     ]
    }
   ],
   "source": [
    "for name in a:\n",
    "    if name==\"chatbot\":\n",
    "        print(True)\n",
    "        break\n",
    "    else:\n",
    "        print(False)\n",
    "        "
   ]
  },
  {
   "cell_type": "code",
   "execution_count": 10,
   "id": "7566b6b6",
   "metadata": {},
   "outputs": [
    {
     "name": "stdout",
     "output_type": "stream",
     "text": [
      "True\n"
     ]
    }
   ],
   "source": [
    "for name in a:\n",
    "    if name==\"chatbot\":\n",
    "        print(True)\n",
    "        break\n",
    "        "
   ]
  },
  {
   "cell_type": "code",
   "execution_count": 11,
   "id": "b50ccf22",
   "metadata": {},
   "outputs": [
    {
     "name": "stdout",
     "output_type": "stream",
     "text": [
      "True\n"
     ]
    }
   ],
   "source": [
    "if \"chatbot\" in a:\n",
    "    print(True)\n",
    "    "
   ]
  },
  {
   "cell_type": "code",
   "execution_count": 12,
   "id": "024e1f0b",
   "metadata": {},
   "outputs": [
    {
     "data": {
      "text/plain": [
       "True"
      ]
     },
     "execution_count": 12,
     "metadata": {},
     "output_type": "execute_result"
    }
   ],
   "source": [
    "\"chatbot\" in a"
   ]
  },
  {
   "cell_type": "code",
   "execution_count": 14,
   "id": "7bb21a9b",
   "metadata": {},
   "outputs": [
    {
     "name": "stdout",
     "output_type": "stream",
     "text": [
      "python\n",
      "GD\n",
      "chatbot\n",
      "networking\n"
     ]
    }
   ],
   "source": [
    "for key in class_python:\n",
    "    if key==\"courses\":\n",
    "        for course in class_python[key]:\n",
    "            print(course)\n",
    "    "
   ]
  },
  {
   "cell_type": "code",
   "execution_count": 15,
   "id": "8cb66b4c",
   "metadata": {},
   "outputs": [
    {
     "name": "stdout",
     "output_type": "stream",
     "text": [
      "python\n",
      "GD\n",
      "chatbot\n",
      "networking\n"
     ]
    }
   ],
   "source": [
    "for key in class_python[\"courses\"]:\n",
    "    print(key)"
   ]
  },
  {
   "cell_type": "code",
   "execution_count": null,
   "id": "7d690731",
   "metadata": {},
   "outputs": [],
   "source": []
  }
 ],
 "metadata": {
  "kernelspec": {
   "display_name": "Python 3 (ipykernel)",
   "language": "python",
   "name": "python3"
  },
  "language_info": {
   "codemirror_mode": {
    "name": "ipython",
    "version": 3
   },
   "file_extension": ".py",
   "mimetype": "text/x-python",
   "name": "python",
   "nbconvert_exporter": "python",
   "pygments_lexer": "ipython3",
   "version": "3.9.7"
  }
 },
 "nbformat": 4,
 "nbformat_minor": 5
}
