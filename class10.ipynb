{
 "cells": [
  {
   "cell_type": "code",
   "execution_count": 4,
   "id": "05c6caad",
   "metadata": {},
   "outputs": [
    {
     "name": "stdout",
     "output_type": "stream",
     "text": [
      "Enter your dishes 1\n",
      "Enter your dishes 2\n",
      "Enter your dishes 3\n",
      "Enter your dishes 4\n",
      "['1', '2', '3', '4']\n"
     ]
    }
   ],
   "source": [
    "dishes=[]\n",
    "z=0\n",
    "\n",
    "while z<4:\n",
    "    x=input(\"Enter your dishes \")\n",
    "    dishes.append(x)\n",
    "    z+=1\n",
    "print(dishes)\n",
    "    "
   ]
  },
  {
   "cell_type": "code",
   "execution_count": 6,
   "id": "d77efb3a",
   "metadata": {},
   "outputs": [
    {
     "name": "stdout",
     "output_type": "stream",
     "text": [
      "Enter your dishes or q to exit 1\n",
      "Enter your dishes or q to exit 2\n",
      "Enter your dishes or q to exit 3\n",
      "Enter your dishes or q to exit 3\n",
      "Enter your dishes or q to exit 4\n",
      "Enter your dishes or q to exit q\n",
      "['1', '2', '3', '3', '4']\n"
     ]
    }
   ],
   "source": [
    "flag = True\n",
    "dishes=[]\n",
    "\n",
    "while flag:\n",
    "    x=input(\"Enter your dishes or q to exit \")\n",
    "    if x==\"q\":\n",
    "        flag= False\n",
    "    else:\n",
    "        dishes.append(x)\n",
    "    \n",
    "print(dishes)"
   ]
  },
  {
   "cell_type": "markdown",
   "id": "cc84eea3",
   "metadata": {},
   "source": [
    "## "
   ]
  },
  {
   "cell_type": "code",
   "execution_count": 15,
   "id": "194100b7",
   "metadata": {},
   "outputs": [
    {
     "name": "stdout",
     "output_type": "stream",
     "text": [
      "Enter your dishes or q to exit w\n",
      "Enter your dishes or q to exit w\n",
      "Enter your dishes or q to exit r\n",
      "Enter your dishes or q to exit q\n",
      "['w', 'w', 'r']\n"
     ]
    }
   ],
   "source": [
    "dishes=[]\n",
    "\n",
    "for a in range(10):\n",
    "    x=input(\"Enter your dishes or q to exit \")\n",
    "    if x== \"q\":\n",
    "        break\n",
    "    else:\n",
    "        dishes.append(x)\n",
    "        \n",
    "print(dishes)"
   ]
  },
  {
   "cell_type": "markdown",
   "id": "94da1dfd",
   "metadata": {},
   "source": [
    "# list packing & Unpacking "
   ]
  },
  {
   "cell_type": "code",
   "execution_count": 17,
   "id": "61581a27",
   "metadata": {},
   "outputs": [],
   "source": [
    "a=[\"apple\",\"mango\",\"guava\"]\n",
    "\n",
    "#packing\n"
   ]
  },
  {
   "cell_type": "code",
   "execution_count": 26,
   "id": "7052c940",
   "metadata": {},
   "outputs": [],
   "source": [
    "f1,f2,f3= a\n",
    "\n",
    "#Unpack"
   ]
  },
  {
   "cell_type": "code",
   "execution_count": 28,
   "id": "4fcd5ca0",
   "metadata": {},
   "outputs": [
    {
     "name": "stdout",
     "output_type": "stream",
     "text": [
      "apple mango guava\n"
     ]
    }
   ],
   "source": [
    "print(f1,f2,f3)"
   ]
  },
  {
   "cell_type": "markdown",
   "id": "1c82b7ca",
   "metadata": {},
   "source": [
    "# Tuple"
   ]
  },
  {
   "cell_type": "code",
   "execution_count": 31,
   "id": "4ad27858",
   "metadata": {},
   "outputs": [],
   "source": [
    "# it is like a list\n",
    "# but tuple immutable\n",
    "# in tuple we use small brackets()"
   ]
  },
  {
   "cell_type": "code",
   "execution_count": 32,
   "id": "32a68ca2",
   "metadata": {},
   "outputs": [],
   "source": [
    "names= \"nayab\",\"hamza\",\"alishba\""
   ]
  },
  {
   "cell_type": "code",
   "execution_count": 34,
   "id": "3ef35330",
   "metadata": {},
   "outputs": [
    {
     "data": {
      "text/plain": [
       "('nayab', 'hamza', 'alishba')"
      ]
     },
     "execution_count": 34,
     "metadata": {},
     "output_type": "execute_result"
    }
   ],
   "source": [
    "names"
   ]
  },
  {
   "cell_type": "code",
   "execution_count": 33,
   "id": "647e249d",
   "metadata": {},
   "outputs": [
    {
     "data": {
      "text/plain": [
       "tuple"
      ]
     },
     "execution_count": 33,
     "metadata": {},
     "output_type": "execute_result"
    }
   ],
   "source": [
    "type(names)"
   ]
  },
  {
   "cell_type": "code",
   "execution_count": 35,
   "id": "d321c477",
   "metadata": {},
   "outputs": [],
   "source": [
    "s1,s2,s3=names"
   ]
  },
  {
   "cell_type": "code",
   "execution_count": 36,
   "id": "f75a116a",
   "metadata": {},
   "outputs": [
    {
     "data": {
      "text/plain": [
       "'nayab'"
      ]
     },
     "execution_count": 36,
     "metadata": {},
     "output_type": "execute_result"
    }
   ],
   "source": [
    "s1"
   ]
  },
  {
   "cell_type": "code",
   "execution_count": 37,
   "id": "f557df67",
   "metadata": {},
   "outputs": [
    {
     "data": {
      "text/plain": [
       "'hamza'"
      ]
     },
     "execution_count": 37,
     "metadata": {},
     "output_type": "execute_result"
    }
   ],
   "source": [
    "s2"
   ]
  },
  {
   "cell_type": "code",
   "execution_count": 38,
   "id": "45b720c5",
   "metadata": {},
   "outputs": [
    {
     "data": {
      "text/plain": [
       "'alishba'"
      ]
     },
     "execution_count": 38,
     "metadata": {},
     "output_type": "execute_result"
    }
   ],
   "source": [
    "s3\n"
   ]
  },
  {
   "cell_type": "code",
   "execution_count": 40,
   "id": "aea2de66",
   "metadata": {},
   "outputs": [
    {
     "data": {
      "text/plain": [
       "'nayab'"
      ]
     },
     "execution_count": 40,
     "metadata": {},
     "output_type": "execute_result"
    }
   ],
   "source": [
    "names[0]"
   ]
  },
  {
   "cell_type": "code",
   "execution_count": 41,
   "id": "d393d27a",
   "metadata": {},
   "outputs": [
    {
     "data": {
      "text/plain": [
       "'hamza'"
      ]
     },
     "execution_count": 41,
     "metadata": {},
     "output_type": "execute_result"
    }
   ],
   "source": [
    "names[1]"
   ]
  },
  {
   "cell_type": "code",
   "execution_count": 44,
   "id": "f8284675",
   "metadata": {},
   "outputs": [
    {
     "data": {
      "text/plain": [
       "('nayab', 'hamza', 'alishba')"
      ]
     },
     "execution_count": 44,
     "metadata": {},
     "output_type": "execute_result"
    }
   ],
   "source": [
    "names[0:]"
   ]
  },
  {
   "cell_type": "code",
   "execution_count": 47,
   "id": "298fec1e",
   "metadata": {},
   "outputs": [
    {
     "data": {
      "text/plain": [
       "1"
      ]
     },
     "execution_count": 47,
     "metadata": {},
     "output_type": "execute_result"
    }
   ],
   "source": [
    "names.count(\"nayab\")"
   ]
  },
  {
   "cell_type": "code",
   "execution_count": 52,
   "id": "76e3f2a8",
   "metadata": {},
   "outputs": [
    {
     "data": {
      "text/plain": [
       "0"
      ]
     },
     "execution_count": 52,
     "metadata": {},
     "output_type": "execute_result"
    }
   ],
   "source": [
    "names.index(\"nayab\")"
   ]
  },
  {
   "cell_type": "code",
   "execution_count": 55,
   "id": "e244a943",
   "metadata": {},
   "outputs": [],
   "source": [
    "stud=names[0:2]"
   ]
  },
  {
   "cell_type": "code",
   "execution_count": 56,
   "id": "a048b841",
   "metadata": {},
   "outputs": [
    {
     "data": {
      "text/plain": [
       "('nayab', 'hamza')"
      ]
     },
     "execution_count": 56,
     "metadata": {},
     "output_type": "execute_result"
    }
   ],
   "source": [
    "stud"
   ]
  },
  {
   "cell_type": "code",
   "execution_count": 60,
   "id": "c671a90f",
   "metadata": {},
   "outputs": [
    {
     "data": {
      "text/plain": [
       "['nayab', 'hamza', 'alishba']"
      ]
     },
     "execution_count": 60,
     "metadata": {},
     "output_type": "execute_result"
    }
   ],
   "source": [
    "list(names) "
   ]
  },
  {
   "cell_type": "code",
   "execution_count": 58,
   "id": "e5274b5c",
   "metadata": {},
   "outputs": [
    {
     "data": {
      "text/plain": [
       "tuple"
      ]
     },
     "execution_count": 58,
     "metadata": {},
     "output_type": "execute_result"
    }
   ],
   "source": [
    "type(names)"
   ]
  },
  {
   "cell_type": "code",
   "execution_count": 67,
   "id": "431b65af",
   "metadata": {},
   "outputs": [],
   "source": [
    "names=list(names)"
   ]
  },
  {
   "cell_type": "code",
   "execution_count": 61,
   "id": "460cf1ae",
   "metadata": {},
   "outputs": [
    {
     "data": {
      "text/plain": [
       "('apple', 'mango', 'guava')"
      ]
     },
     "execution_count": 61,
     "metadata": {},
     "output_type": "execute_result"
    }
   ],
   "source": [
    "tuple(a)"
   ]
  },
  {
   "cell_type": "code",
   "execution_count": 62,
   "id": "ca872e85",
   "metadata": {},
   "outputs": [],
   "source": [
    "a=tuple(a)"
   ]
  },
  {
   "cell_type": "code",
   "execution_count": 63,
   "id": "da248e2e",
   "metadata": {},
   "outputs": [
    {
     "data": {
      "text/plain": [
       "('apple', 'mango', 'guava')"
      ]
     },
     "execution_count": 63,
     "metadata": {},
     "output_type": "execute_result"
    }
   ],
   "source": [
    "a"
   ]
  },
  {
   "cell_type": "code",
   "execution_count": 64,
   "id": "2c9d74c6",
   "metadata": {},
   "outputs": [],
   "source": [
    "b=(11,1,23,34,names)"
   ]
  },
  {
   "cell_type": "code",
   "execution_count": 66,
   "id": "16ae368e",
   "metadata": {},
   "outputs": [
    {
     "data": {
      "text/plain": [
       "(11, 1, 23, 34, ('nayab', 'hamza', 'alishba'))"
      ]
     },
     "execution_count": 66,
     "metadata": {},
     "output_type": "execute_result"
    }
   ],
   "source": [
    "b"
   ]
  },
  {
   "cell_type": "code",
   "execution_count": 68,
   "id": "643ddafa",
   "metadata": {},
   "outputs": [],
   "source": [
    "c=(22,33,44,names)"
   ]
  },
  {
   "cell_type": "code",
   "execution_count": 69,
   "id": "656df313",
   "metadata": {},
   "outputs": [
    {
     "data": {
      "text/plain": [
       "(22, 33, 44, ['nayab', 'hamza', 'alishba'])"
      ]
     },
     "execution_count": 69,
     "metadata": {},
     "output_type": "execute_result"
    }
   ],
   "source": [
    "c"
   ]
  },
  {
   "cell_type": "markdown",
   "id": "f5c2cc73",
   "metadata": {},
   "source": [
    "# SET\n",
    "\n",
    "set makes of curly brackets{}"
   ]
  },
  {
   "cell_type": "code",
   "execution_count": 76,
   "id": "e1476358",
   "metadata": {},
   "outputs": [],
   "source": [
    "aset={1,2,3,4,5,6,7,3}"
   ]
  },
  {
   "cell_type": "code",
   "execution_count": 79,
   "id": "218ee5de",
   "metadata": {},
   "outputs": [
    {
     "data": {
      "text/plain": [
       "{1, 2, 3, 4, 5, 6, 7}"
      ]
     },
     "execution_count": 79,
     "metadata": {},
     "output_type": "execute_result"
    }
   ],
   "source": [
    "aset"
   ]
  },
  {
   "cell_type": "code",
   "execution_count": 77,
   "id": "a51b8e46",
   "metadata": {},
   "outputs": [
    {
     "data": {
      "text/plain": [
       "set"
      ]
     },
     "execution_count": 77,
     "metadata": {},
     "output_type": "execute_result"
    }
   ],
   "source": [
    "type(aset)\n"
   ]
  },
  {
   "cell_type": "code",
   "execution_count": 118,
   "id": "ac70bd55",
   "metadata": {},
   "outputs": [],
   "source": [
    "cset={11,33,44,55,68,33,6,521,65,215,65,}"
   ]
  },
  {
   "cell_type": "code",
   "execution_count": 78,
   "id": "686aafde",
   "metadata": {},
   "outputs": [
    {
     "data": {
      "text/plain": [
       "{'apple', 'guava', 'mango'}"
      ]
     },
     "execution_count": 78,
     "metadata": {},
     "output_type": "execute_result"
    }
   ],
   "source": [
    "bset=set(a)\n",
    "bset"
   ]
  },
  {
   "cell_type": "code",
   "execution_count": 82,
   "id": "a44a106a",
   "metadata": {},
   "outputs": [],
   "source": [
    "aset.add(9)"
   ]
  },
  {
   "cell_type": "code",
   "execution_count": 111,
   "id": "d53cd86f",
   "metadata": {},
   "outputs": [],
   "source": [
    "aset={1,2,3,44,5,6,7,8,9}"
   ]
  },
  {
   "cell_type": "code",
   "execution_count": 96,
   "id": "1f2f4a45",
   "metadata": {},
   "outputs": [
    {
     "data": {
      "text/plain": [
       "{1, 2, 3, 5, 6, 7, 8, 9, 44}"
      ]
     },
     "execution_count": 96,
     "metadata": {},
     "output_type": "execute_result"
    }
   ],
   "source": [
    "aset.copy()"
   ]
  },
  {
   "cell_type": "code",
   "execution_count": 97,
   "id": "8dfed321",
   "metadata": {},
   "outputs": [
    {
     "data": {
      "text/plain": [
       "{11, 33, 55, 65, 68, 215, 521}"
      ]
     },
     "execution_count": 97,
     "metadata": {},
     "output_type": "execute_result"
    }
   ],
   "source": [
    "cset.difference(aset)"
   ]
  },
  {
   "cell_type": "code",
   "execution_count": 98,
   "id": "ac054a4d",
   "metadata": {},
   "outputs": [],
   "source": [
    "aset.difference_update(cset)"
   ]
  },
  {
   "cell_type": "code",
   "execution_count": 99,
   "id": "2177c9a2",
   "metadata": {},
   "outputs": [
    {
     "data": {
      "text/plain": [
       "{1, 2, 3, 5, 7, 8, 9}"
      ]
     },
     "execution_count": 99,
     "metadata": {},
     "output_type": "execute_result"
    }
   ],
   "source": [
    "aset"
   ]
  },
  {
   "cell_type": "code",
   "execution_count": 102,
   "id": "9bde6091",
   "metadata": {},
   "outputs": [],
   "source": [
    "aset.discard(9)"
   ]
  },
  {
   "cell_type": "code",
   "execution_count": 103,
   "id": "7139e4fc",
   "metadata": {},
   "outputs": [
    {
     "data": {
      "text/plain": [
       "{1, 2, 3, 5, 7, 8}"
      ]
     },
     "execution_count": 103,
     "metadata": {},
     "output_type": "execute_result"
    }
   ],
   "source": [
    "aset"
   ]
  },
  {
   "cell_type": "code",
   "execution_count": 107,
   "id": "47d6683e",
   "metadata": {},
   "outputs": [
    {
     "data": {
      "text/plain": [
       "{6, 44}"
      ]
     },
     "execution_count": 107,
     "metadata": {},
     "output_type": "execute_result"
    }
   ],
   "source": [
    "aset.intersection(cset)"
   ]
  },
  {
   "cell_type": "code",
   "execution_count": 109,
   "id": "73831bea",
   "metadata": {},
   "outputs": [],
   "source": [
    "aset.intersection_update(cset)"
   ]
  },
  {
   "cell_type": "code",
   "execution_count": 112,
   "id": "10534aee",
   "metadata": {},
   "outputs": [
    {
     "data": {
      "text/plain": [
       "{1, 2, 3, 5, 6, 7, 8, 9, 44}"
      ]
     },
     "execution_count": 112,
     "metadata": {},
     "output_type": "execute_result"
    }
   ],
   "source": [
    "aset"
   ]
  },
  {
   "cell_type": "code",
   "execution_count": 113,
   "id": "887bcfa4",
   "metadata": {},
   "outputs": [
    {
     "data": {
      "text/plain": [
       "False"
      ]
     },
     "execution_count": 113,
     "metadata": {},
     "output_type": "execute_result"
    }
   ],
   "source": [
    "aset.isdisjoint(cset)"
   ]
  },
  {
   "cell_type": "code",
   "execution_count": 114,
   "id": "c3e238de",
   "metadata": {},
   "outputs": [
    {
     "data": {
      "text/plain": [
       "False"
      ]
     },
     "execution_count": 114,
     "metadata": {},
     "output_type": "execute_result"
    }
   ],
   "source": [
    "aset.issubset(cset)"
   ]
  },
  {
   "cell_type": "code",
   "execution_count": 115,
   "id": "eabafb33",
   "metadata": {},
   "outputs": [
    {
     "data": {
      "text/plain": [
       "{6, 11, 33, 44, 55, 65, 68, 215, 521}"
      ]
     },
     "execution_count": 115,
     "metadata": {},
     "output_type": "execute_result"
    }
   ],
   "source": [
    "cset"
   ]
  },
  {
   "cell_type": "code",
   "execution_count": 119,
   "id": "7317591b",
   "metadata": {},
   "outputs": [],
   "source": [
    "set1 = {\"abc\", 34, True, 40, \"male\"}\n"
   ]
  },
  {
   "cell_type": "code",
   "execution_count": 120,
   "id": "8a173168",
   "metadata": {},
   "outputs": [
    {
     "data": {
      "text/plain": [
       "set"
      ]
     },
     "execution_count": 120,
     "metadata": {},
     "output_type": "execute_result"
    }
   ],
   "source": [
    "type(set1)"
   ]
  },
  {
   "cell_type": "code",
   "execution_count": 121,
   "id": "c9582015",
   "metadata": {},
   "outputs": [
    {
     "name": "stdout",
     "output_type": "stream",
     "text": [
      "<class 'set'>\n"
     ]
    }
   ],
   "source": [
    "myset = {\"apple\", \"banana\", \"cherry\"}\n",
    "print(type(myset))\n"
   ]
  },
  {
   "cell_type": "code",
   "execution_count": 122,
   "id": "55ea20d3",
   "metadata": {},
   "outputs": [
    {
     "name": "stdout",
     "output_type": "stream",
     "text": [
      "{'apple', 'cherry', 'banana'}\n"
     ]
    }
   ],
   "source": [
    "thisset = set((\"apple\", \"banana\", \"cherry\")) # note the double round-brackets\n",
    "print(thisset)"
   ]
  },
  {
   "cell_type": "code",
   "execution_count": 123,
   "id": "739d6ba2",
   "metadata": {},
   "outputs": [
    {
     "data": {
      "text/plain": [
       "set"
      ]
     },
     "execution_count": 123,
     "metadata": {},
     "output_type": "execute_result"
    }
   ],
   "source": [
    "type(thisset)"
   ]
  },
  {
   "cell_type": "code",
   "execution_count": 124,
   "id": "7c0b0bbd",
   "metadata": {},
   "outputs": [
    {
     "data": {
      "text/plain": [
       "False"
      ]
     },
     "execution_count": 124,
     "metadata": {},
     "output_type": "execute_result"
    }
   ],
   "source": [
    "aset.issuperset(cset)"
   ]
  },
  {
   "cell_type": "code",
   "execution_count": 131,
   "id": "359228a3",
   "metadata": {},
   "outputs": [
    {
     "data": {
      "text/plain": [
       "1"
      ]
     },
     "execution_count": 131,
     "metadata": {},
     "output_type": "execute_result"
    }
   ],
   "source": [
    "aset.pop()"
   ]
  },
  {
   "cell_type": "code",
   "execution_count": 130,
   "id": "9a3e7732",
   "metadata": {},
   "outputs": [
    {
     "name": "stdout",
     "output_type": "stream",
     "text": [
      "apple\n",
      "{'cherry', 'banana'}\n"
     ]
    }
   ],
   "source": [
    "thisset = {\"apple\", \"banana\", \"cherry\"}\n",
    "\n",
    "x = thisset.pop()\n",
    "\n",
    "print(x)\n",
    "\n",
    "print(thisset)"
   ]
  },
  {
   "cell_type": "code",
   "execution_count": 132,
   "id": "d05d7466",
   "metadata": {},
   "outputs": [
    {
     "name": "stdout",
     "output_type": "stream",
     "text": [
      "{'papaya', 'pineapple', 'banana', 'mango', 'apple', 'cherry'}\n"
     ]
    }
   ],
   "source": [
    "thisset = {\"apple\", \"banana\", \"cherry\"}\n",
    "tropical = {\"pineapple\", \"mango\", \"papaya\"}\n",
    "\n",
    "thisset.update(tropical)\n",
    "\n",
    "print(thisset)"
   ]
  },
  {
   "cell_type": "code",
   "execution_count": 133,
   "id": "c1935e6b",
   "metadata": {},
   "outputs": [
    {
     "name": "stdout",
     "output_type": "stream",
     "text": [
      "{'apple', 'banana', 'kiwi', 'orange', 'cherry'}\n"
     ]
    }
   ],
   "source": [
    "thisset = {\"apple\", \"banana\", \"cherry\"}\n",
    "mylist = [\"kiwi\", \"orange\"]\n",
    "\n",
    "thisset.update(mylist)\n",
    "\n",
    "print(thisset)"
   ]
  },
  {
   "cell_type": "code",
   "execution_count": 134,
   "id": "014cc8af",
   "metadata": {},
   "outputs": [
    {
     "name": "stdout",
     "output_type": "stream",
     "text": [
      "{'b', 1, 2, 3, 'a', 'c'}\n"
     ]
    }
   ],
   "source": [
    "set1 = {\"a\", \"b\" , \"c\"}\n",
    "set2 = {1, 2, 3}\n",
    "\n",
    "set3 = set1.union(set2)\n",
    "print(set3)"
   ]
  },
  {
   "cell_type": "code",
   "execution_count": 135,
   "id": "a848400e",
   "metadata": {},
   "outputs": [
    {
     "data": {
      "text/plain": [
       "{1, 2, 3, 'a', 'b', 'c'}"
      ]
     },
     "execution_count": 135,
     "metadata": {},
     "output_type": "execute_result"
    }
   ],
   "source": [
    "set3"
   ]
  },
  {
   "cell_type": "code",
   "execution_count": 138,
   "id": "9f116e94",
   "metadata": {},
   "outputs": [
    {
     "name": "stdout",
     "output_type": "stream",
     "text": [
      "{'apple'}\n"
     ]
    }
   ],
   "source": [
    "x = {\"apple\", \"banana\", \"cherry\"}\n",
    "y = {\"google\", \"microsoft\", \"apple\"}\n",
    "\n",
    "x.intersection_update(y)\n",
    "\n",
    "print(x)\n"
   ]
  },
  {
   "cell_type": "code",
   "execution_count": 139,
   "id": "a688a973",
   "metadata": {},
   "outputs": [
    {
     "name": "stdout",
     "output_type": "stream",
     "text": [
      "{'apple'}\n"
     ]
    }
   ],
   "source": [
    "x = {\"apple\", \"banana\", \"cherry\"}\n",
    "y = {\"google\", \"microsoft\", \"apple\"}\n",
    "\n",
    "z = x.intersection(y)\n",
    "\n",
    "print(z)"
   ]
  },
  {
   "cell_type": "code",
   "execution_count": 140,
   "id": "af75e293",
   "metadata": {},
   "outputs": [
    {
     "data": {
      "text/plain": [
       "{'apple'}"
      ]
     },
     "execution_count": 140,
     "metadata": {},
     "output_type": "execute_result"
    }
   ],
   "source": [
    "z"
   ]
  },
  {
   "cell_type": "code",
   "execution_count": 141,
   "id": "0875b48d",
   "metadata": {},
   "outputs": [
    {
     "name": "stdout",
     "output_type": "stream",
     "text": [
      "{'microsoft', 'banana', 'google', 'cherry'}\n"
     ]
    }
   ],
   "source": [
    "x = {\"apple\", \"banana\", \"cherry\"}\n",
    "y = {\"google\", \"microsoft\", \"apple\"}\n",
    "\n",
    "x.symmetric_difference_update(y)\n",
    "\n",
    "print(x)"
   ]
  },
  {
   "cell_type": "code",
   "execution_count": 142,
   "id": "ba9f39ff",
   "metadata": {},
   "outputs": [
    {
     "name": "stdout",
     "output_type": "stream",
     "text": [
      "{'microsoft', 'banana', 'google', 'cherry'}\n"
     ]
    }
   ],
   "source": [
    "x = {\"apple\", \"banana\", \"cherry\"}\n",
    "y = {\"google\", \"microsoft\", \"apple\"}\n",
    "\n",
    "z = x.symmetric_difference(y)\n",
    "\n",
    "print(z)"
   ]
  },
  {
   "cell_type": "markdown",
   "id": "d92346e1",
   "metadata": {},
   "source": [
    "# dictionary"
   ]
  },
  {
   "cell_type": "code",
   "execution_count": 143,
   "id": "d14d899d",
   "metadata": {},
   "outputs": [
    {
     "name": "stdout",
     "output_type": "stream",
     "text": [
      "{'brand': 'Ford', 'model': 'Mustang', 'year': 1964}\n"
     ]
    }
   ],
   "source": [
    "thisdict = {\n",
    "  \"brand\": \"Ford\",\n",
    "  \"model\": \"Mustang\",\n",
    "  \"year\": 1964\n",
    "}\n",
    "print(thisdict)"
   ]
  },
  {
   "cell_type": "code",
   "execution_count": null,
   "id": "2d831f49",
   "metadata": {},
   "outputs": [],
   "source": []
  }
 ],
 "metadata": {
  "kernelspec": {
   "display_name": "Python 3 (ipykernel)",
   "language": "python",
   "name": "python3"
  },
  "language_info": {
   "codemirror_mode": {
    "name": "ipython",
    "version": 3
   },
   "file_extension": ".py",
   "mimetype": "text/x-python",
   "name": "python",
   "nbconvert_exporter": "python",
   "pygments_lexer": "ipython3",
   "version": "3.9.7"
  }
 },
 "nbformat": 4,
 "nbformat_minor": 5
}
